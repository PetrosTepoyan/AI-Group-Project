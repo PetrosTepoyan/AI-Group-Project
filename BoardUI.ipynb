{
 "cells": [
  {
   "cell_type": "code",
   "execution_count": 1,
   "id": "1628cec8",
   "metadata": {},
   "outputs": [],
   "source": [
    "from Core import Player\n",
    "\n",
    "class UIBoard:\n",
    "    def __init__(self, board_size = 9, fences_horizontal = set(), fences_vertical = set(), player_positions = {\n",
    "            Player.MAX: (4, 0),\n",
    "            Player.MIN: (4, 8),\n",
    "        }):\n",
    "        self.board_size = board_size\n",
    "        self.fences_horizontal = fences_horizontal\n",
    "        self.fences_vertical = fences_vertical\n",
    "        self.player_positions = player_positions\n",
    "\n",
    "    def draw(self):\n",
    "        tile_size = 3\n",
    "        row = \"--\" * (self.board_size * 2) + \"-\"\n",
    "        cell = \"| X \" * self.board_size + \"|\"\n",
    "        for _ in range(self.board_size):\n",
    "            print(row)\n",
    "            print(cell)\n",
    "        print(row)\n"
   ]
  },
  {
   "cell_type": "code",
   "execution_count": 124,
   "id": "329f392a",
   "metadata": {},
   "outputs": [],
   "source": [
    "ui_board = UIBoard()\n",
    "def reverse_dict(d):\n",
    "    return {value: key for key, value in d.items()}\n",
    "\n",
    "player_position = {\"X\" : (2, 0), \"O\" : (2, 4)}\n",
    "player_position = reverse_dict(player_position)"
   ]
  },
  {
   "cell_type": "code",
   "execution_count": 127,
   "id": "9729b70b",
   "metadata": {},
   "outputs": [
    {
     "name": "stdout",
     "output_type": "stream",
     "text": [
      "----------------\n",
      "|   |   ‖ X |   | \n",
      "-===-===--------\n",
      "|   |   ‖   |   | \n",
      "----------------\n",
      "|   |   |   |   | \n",
      "----------------\n",
      "|   |   |   |   | \n",
      "----------------\n"
     ]
    }
   ],
   "source": [
    "fences_horizontal = {(0, 0), (3, 3)}\n",
    "fences_vertical = {(1, 0)}\n",
    "board_size = 4\n",
    "    \n",
    "def col_symb(in_cell, coord):\n",
    "    same = (coord in fences_vertical)\n",
    "    to_up = (up(coord) in fences_vertical)\n",
    "    col_symb = \" \\u2016 \" if (same or to_up) else \" | \"\n",
    "    ret_val = in_cell + col_symb\n",
    "    return ret_val\n",
    "\n",
    "def row_symb(coord):\n",
    "    same = (coord in fences_horizontal)\n",
    "    to_right = (left(coord) in fences_horizontal)\n",
    "    row_symb = \"===\" if (same or to_right) else \"---\"\n",
    "    return row_symb\n",
    "\n",
    "def in_cell_symb(coord):\n",
    "    in_cell = player_position.get(coord)\n",
    "    if in_cell is None:\n",
    "        return \" \"\n",
    "    else:\n",
    "        return in_cell\n",
    "\n",
    "for i in range(0, board_size):\n",
    "    row_line = \"\"\n",
    "    col_line = \"| \"\n",
    "    for j in range(0, board_size):\n",
    "        coord_for_row = (j, i - 1)\n",
    "        row_symb_for_coord = row_symb(coord_for_row)\n",
    "        row_line += \"-\" + row_symb_for_coord\n",
    "        \n",
    "        in_cell = in_cell_symb((j, i))\n",
    "        \n",
    "        coord_for_col = (j, i)\n",
    "        col_symb_for_coord = col_symb(in_cell, coord_for_col)\n",
    "        col_line += col_symb_for_coord\n",
    "        \n",
    "    print(row_line)\n",
    "    print(col_line)\n",
    "    \n",
    "print(\"-\" * board_size * 4)"
   ]
  },
  {
   "cell_type": "code",
   "execution_count": 111,
   "id": "824d3dc9",
   "metadata": {},
   "outputs": [
    {
     "name": "stdout",
     "output_type": "stream",
     "text": [
      "‖\n"
     ]
    }
   ],
   "source": [
    "print()"
   ]
  },
  {
   "cell_type": "code",
   "execution_count": 20,
   "id": "617c2dde",
   "metadata": {},
   "outputs": [],
   "source": [
    "def left(coord):\n",
    "    return (coord[0] - 1, coord[1])\n",
    "\n",
    "def right(coord):\n",
    "    return (coord[0] + 1, coord[1])\n",
    "\n",
    "def up(coord):\n",
    "    return (coord[0], coord[1] - 1)\n",
    "\n",
    "def down(coord):\n",
    "    return (coord[0], coord[1] + 1)"
   ]
  },
  {
   "cell_type": "code",
   "execution_count": null,
   "id": "33d745b1",
   "metadata": {},
   "outputs": [],
   "source": []
  }
 ],
 "metadata": {
  "kernelspec": {
   "display_name": "Python 3 (ipykernel)",
   "language": "python",
   "name": "python3"
  },
  "language_info": {
   "codemirror_mode": {
    "name": "ipython",
    "version": 3
   },
   "file_extension": ".py",
   "mimetype": "text/x-python",
   "name": "python",
   "nbconvert_exporter": "python",
   "pygments_lexer": "ipython3",
   "version": "3.9.13"
  }
 },
 "nbformat": 4,
 "nbformat_minor": 5
}
