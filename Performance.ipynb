{
 "cells": [
  {
   "cell_type": "code",
   "execution_count": 2,
   "id": "c98e1c63",
   "metadata": {},
   "outputs": [
    {
     "name": "stdout",
     "output_type": "stream",
     "text": [
      "The autoreload extension is already loaded. To reload it, use:\n",
      "  %reload_ext autoreload\n"
     ]
    }
   ],
   "source": [
    "%load_ext autoreload\n",
    "%autoreload 2\n",
    "from GameFlow import Board, BoardTerminalTest, FenceChecker, MoveChecker\n",
    "from Search import MinimaxSearch\n",
    "import sys\n",
    "sys.setrecursionlimit(10000)\n",
    "from copy import deepcopy\n",
    "from math import inf\n",
    "import time\n",
    "\n",
    "grid_size = 3\n",
    "fence_length = 2\n",
    "\n",
    "fence_checker = FenceChecker(\n",
    "    grid_size = grid_size,\n",
    "    fence_length = fence_length\n",
    ")\n",
    "move_checker = MoveChecker(grid_size)"
   ]
  },
  {
   "cell_type": "code",
   "execution_count": 3,
   "id": "0260916d",
   "metadata": {},
   "outputs": [],
   "source": [
    "board = Board(\n",
    "    grid_size = 9,\n",
    "    fence_checker = fence_checker,\n",
    "    player_positions = None,\n",
    "    move_checker = move_checker,\n",
    "    fences_horizontal=set(),\n",
    "    fences_vertical=set()\n",
    ")"
   ]
  },
  {
   "cell_type": "code",
   "execution_count": 9,
   "id": "20ba140c",
   "metadata": {},
   "outputs": [
    {
     "name": "stdout",
     "output_type": "stream",
     "text": [
      "523 ns ± 0.947 ns per loop (mean ± std. dev. of 7 runs, 1,000,000 loops each)\n"
     ]
    }
   ],
   "source": [
    "%%timeit\n",
    "\n",
    "hash(board)"
   ]
  },
  {
   "cell_type": "code",
   "execution_count": 11,
   "id": "f9794e6d",
   "metadata": {},
   "outputs": [
    {
     "name": "stdout",
     "output_type": "stream",
     "text": [
      "219 ns ± 0.314 ns per loop (mean ± std. dev. of 7 runs, 1,000,000 loops each)\n"
     ]
    }
   ],
   "source": [
    "%%timeit\n",
    "\n",
    "board == board"
   ]
  },
  {
   "cell_type": "code",
   "execution_count": 3,
   "id": "95ab5b8c",
   "metadata": {},
   "outputs": [
    {
     "data": {
      "image/png": "[encoded data removed]",
      "text/plain": [
       "<Figure size 640x480 with 1 Axes>"
      ]
     },
     "metadata": {},
     "output_type": "display_data"
    }
   ],
   "source": [
    "import matplotlib.pyplot as plt\n",
    "\n",
    "number1 = 523\n",
    "number2 = 219\n",
    "\n",
    "# Labels for the numbers\n",
    "label1 = '__hash__'\n",
    "label2 = '__eq__'\n",
    "\n",
    "# Creating the bar plot\n",
    "plt.style.use('ggplot')\n",
    "plt.bar(label1, number1)\n",
    "plt.bar(label2, number2)\n",
    "plt.ylabel(\"Execution time (ns)\")\n",
    "plt.savefig(\"internal_func.png\", dpi=800)"
   ]
  },
  {
   "cell_type": "code",
   "execution_count": null,
   "id": "b58e0503",
   "metadata": {},
   "outputs": [],
   "source": []
  }
 ],
 "metadata": {
  "kernelspec": {
   "display_name": "Python 3 (ipykernel)",
   "language": "python",
   "name": "python3"
  },
  "language_info": {
   "codemirror_mode": {
    "name": "ipython",
    "version": 3
   },
   "file_extension": ".py",
   "mimetype": "text/x-python",
   "name": "python",
   "nbconvert_exporter": "python",
   "pygments_lexer": "ipython3",
   "version": "3.9.13"
  }
 },
 "nbformat": 4,
 "nbformat_minor": 5
}
