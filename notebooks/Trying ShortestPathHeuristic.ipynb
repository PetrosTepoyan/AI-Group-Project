{
 "cells": [
  {
   "cell_type": "code",
   "execution_count": 1,
   "id": "26c24431",
   "metadata": {},
   "outputs": [],
   "source": [
    "%load_ext autoreload\n",
    "%autoreload 2\n",
    "\n",
    "import sys\n",
    "sys.setrecursionlimit(10000)\n",
    "from IPython.display import clear_output\n",
    "sys.path.append(\"..\")\n",
    "\n",
    "from GameFlow import Board, BoardTerminalTest, FenceChecker, MoveChecker\n",
    "from Search import MinimaxSearch, AlphaBetaSearch, DLMinimaxSearch, DLAlphaBetaSearch\n",
    "from Heuristics import DistanceHeuristic\n",
    "from UIKit import UIBoard\n",
    "from Core import Player\n",
    "\n",
    "grid_size = 5\n",
    "fence_length = 2\n",
    "\n",
    "fence_checker = FenceChecker(\n",
    "    grid_size = grid_size,\n",
    "    fence_length = fence_length\n",
    ")\n",
    "move_checker = MoveChecker(grid_size)\n",
    "\n",
    "board = Board(\n",
    "    grid_size = grid_size,\n",
    "    fence_checker = fence_checker,\n",
    "    player_positions = None,\n",
    "    move_checker = move_checker,\n",
    "    fences_horizontal=set(),\n",
    "    fences_vertical=set()\n",
    ")\n",
    "terminal_test = BoardTerminalTest()\n",
    "heuristic = DistanceHeuristic()\n",
    "depth = 1"
   ]
  },
  {
   "cell_type": "code",
   "execution_count": 2,
   "id": "c8685f9c",
   "metadata": {},
   "outputs": [],
   "source": [
    "search = DLAlphaBetaSearch(\n",
    "    depth = depth,\n",
    "    heuristic = heuristic\n",
    ")"
   ]
  },
  {
   "cell_type": "code",
   "execution_count": 3,
   "id": "61d6ce57",
   "metadata": {},
   "outputs": [],
   "source": [
    "fences_horizontal = set({ (3, 2)})\n",
    "fences_vertical = set()\n",
    "player_positions = {Player.MAX: (2, 0), Player.MIN: (2, 4)}\n",
    "\n",
    "board = Board(\n",
    "    grid_size = grid_size,\n",
    "    fence_checker = fence_checker,\n",
    "    player_positions = player_positions,\n",
    "    move_checker = move_checker,\n",
    "    fences_horizontal=fences_horizontal,\n",
    "    fences_vertical=fences_vertical\n",
    ")\n",
    "\n",
    "ui_board = UIBoard(\n",
    "    board_size = grid_size,\n",
    "    fences_horizontal=fences_horizontal,\n",
    "    fences_vertical=fences_vertical,\n",
    "    player_positions = player_positions\n",
    ")"
   ]
  },
  {
   "cell_type": "code",
   "execution_count": 4,
   "id": "76a2b060",
   "metadata": {},
   "outputs": [
    {
     "name": "stdout",
     "output_type": "stream",
     "text": [
      "    0   1   2   3   4\n",
      "  ---------------------\n",
      "0 |   |   | X |   |   | \n",
      "  --------------------\n",
      "1 |   |   |   |   |   | \n",
      "  --------------------\n",
      "2 |   |   |   |   |   | \n",
      "  -------------===-===\n",
      "3 |   |   |   |   |   | \n",
      "  --------------------\n",
      "4 |   |   | O |   |   | \n",
      "  ---------------------\n"
     ]
    }
   ],
   "source": [
    "ui_board.print()"
   ]
  },
  {
   "cell_type": "code",
   "execution_count": 5,
   "id": "22beb1b2",
   "metadata": {},
   "outputs": [
    {
     "data": {
      "text/plain": [
       "4"
      ]
     },
     "execution_count": 5,
     "metadata": {},
     "output_type": "execute_result"
    }
   ],
   "source": [
    "heuristic(board)"
   ]
  },
  {
   "cell_type": "code",
   "execution_count": 6,
   "id": "18770593",
   "metadata": {},
   "outputs": [],
   "source": [
    "from Protocols import Search, State, TerminalTest"
   ]
  },
  {
   "cell_type": "code",
   "execution_count": 129,
   "id": "c007a908",
   "metadata": {},
   "outputs": [],
   "source": [
    "import heapq\n",
    "from abc import ABC, abstractmethod\n",
    "from random import shuffle\n",
    "\n",
    "class Node:\n",
    "    def __init__(self,\n",
    "                 parent = None,\n",
    "                 action = None,\n",
    "                 state = None,\n",
    "                 value = 0,\n",
    "                 depth = 0,\n",
    "                 cost_to_root = 0):\n",
    "        self.parent = parent\n",
    "        self.action = action\n",
    "        self.state = state\n",
    "        self.depth = depth\n",
    "        \n",
    "        # this property represents the node's value\n",
    "        self.value = value \n",
    "        \n",
    "        # this property represents the cost from the node to the root\n",
    "        # in lectures, this is denoted as g(n)\n",
    "        self.cost_to_root = cost_to_root \n",
    "\n",
    "    # Need to define this function in order for the queue to work, so that the heapq knows \n",
    "    # how to compare values of type Node\n",
    "    def __lt__(self, other):\n",
    "        if self.value == None or other.value == None:\n",
    "            return False\n",
    "        else:\n",
    "            return self.value < other.value\n",
    "        \n",
    "    def __le__(self, other):\n",
    "        return self.value <= other.value\n",
    "    \n",
    "    def __ge__(self, other):\n",
    "        return self.value >= other.value\n",
    "        \n",
    "    def __repr__(self):\n",
    "        return f\"Node({self.value})\"\n",
    "\n",
    "class Frontier(ABC):\n",
    "    \n",
    "    def __init__(self):\n",
    "        self.frontier = deque()\n",
    "        self.total_nodes = 0\n",
    "    \n",
    "    @abstractmethod\n",
    "    def add(self, node):\n",
    "        self.total_nodes += 1\n",
    "        pass\n",
    "    \n",
    "    def clear(self):\n",
    "        if type(self.frontier) == \"deque\":\n",
    "            self.frontier = deque()\n",
    "        else:\n",
    "            self.frontier = []\n",
    "        \n",
    "    def isEmpty(self) -> bool:\n",
    "        return len(self.frontier) == 0\n",
    "\n",
    "    def pop(self):\n",
    "        if not self.isEmpty():\n",
    "            return self.frontier.popleft()\n",
    "        else: return\n",
    "        \n",
    "    def __len__(self):\n",
    "        return len(self.frontier)\n",
    "    \n",
    "    def __repr__(self):\n",
    "        return f\"{self.frontier}\"\n",
    "    \n",
    "class NodeFunction: \n",
    "    # This method evaluates the function \n",
    "    def evaluate(self, node: Node) -> int:\n",
    "        pass\n",
    "\n",
    "class AStarFunction(NodeFunction): \n",
    "    \n",
    "    # We need to specify the initializer, as we need to pass in here the \n",
    "    # heuristsic function\n",
    "    def __init__(self, heuristicFunction):\n",
    "        self.heuristicFunction = heuristicFunction\n",
    "    \n",
    "    def evaluate(self, node: Node) -> int:\n",
    "        # g(n) + h(n)\n",
    "        return node.cost_to_root + self.heuristicFunction(node.state)    \n",
    "\n",
    "\n",
    "class BestFirstFrontier(Frontier):\n",
    "    \n",
    "    def __init__(self, nodeFunction: NodeFunction):\n",
    "        self.frontier = []\n",
    "        self.total_nodes = 0\n",
    "        self.nodeFunction = nodeFunction\n",
    "    \n",
    "    def add(self, node):\n",
    "        super().add(node)\n",
    "        node.value = self.nodeFunction.evaluate(node)\n",
    "        heapq.heappush(self.frontier, node)\n",
    "    \n",
    "    def pop(self):\n",
    "        if not self.isEmpty():\n",
    "            return heapq.heappop(self.frontier)\n",
    "        else:\n",
    "            return None\n",
    "\n",
    "class GraphSearch(Search):\n",
    "    \n",
    "    def __init__(self, frontier):\n",
    "        self.reached = set()\n",
    "        self.frontier = frontier\n",
    "        super().__init__()\n",
    "    \n",
    "    def find_strategy(self, initial_state: State, goal_test: TerminalTest):\n",
    "        node = Node(parent = None, \n",
    "                    action = None, \n",
    "                    state = initial_state, \n",
    "                    value = 0,\n",
    "                    depth = 0,\n",
    "                    cost_to_root = 0)\n",
    "        \n",
    "        node.value = self.frontier.nodeFunction.evaluate(node)\n",
    "        self.frontier.add(node)\n",
    "        while not self.frontier.isEmpty():\n",
    "            node = self.frontier.pop()\n",
    "            if node.state not in self.reached:\n",
    "                if goal_test.is_terminal(node.state):\n",
    "                    return node\n",
    "                \n",
    "                self.reached.add(node.state)\n",
    "                \n",
    "                applicable_actions = list(node.state.get_applicable_actions())\n",
    "                for action in applicable_actions:\n",
    "                    new_state = node.state.get_action_result(action)\n",
    "                        \n",
    "                    child = Node(parent = node,\n",
    "                                 action = action,\n",
    "                                 state = new_state,\n",
    "                                 cost_to_root = node.cost_to_root)\n",
    "                    \n",
    "                    if new_state not in self.reached:\n",
    "                        self.frontier.add(child)\n",
    "        return None   \n"
   ]
  },
  {
   "cell_type": "code",
   "execution_count": 130,
   "id": "8bf1674e",
   "metadata": {},
   "outputs": [],
   "source": [
    "heuristic = DistanceHeuristic()\n",
    "node_function = AStarFunction(heuristic)\n",
    "frontier = BestFirstFrontier(node_function)\n",
    "search = GraphSearch(frontier)"
   ]
  },
  {
   "cell_type": "code",
   "execution_count": 131,
   "id": "793ea7c8",
   "metadata": {},
   "outputs": [
    {
     "name": "stdout",
     "output_type": "stream",
     "text": [
      "    0   1   2   3   4\n",
      "  ---------------------\n",
      "0 |   |   ‖ X |   |   | \n",
      "  --------------------\n",
      "1 |   |   ‖   |   |   | \n",
      "  ---------===-===----\n",
      "2 |   |   |   |   |   | \n",
      "  --------------------\n",
      "3 |   |   |   |   |   | \n",
      "  --------------------\n",
      "4 |   |   | O |   |   | \n",
      "  ---------------------\n"
     ]
    }
   ],
   "source": [
    "board = Board(\n",
    "    grid_size = grid_size,\n",
    "    fence_checker = fence_checker,\n",
    "    player_positions = None,\n",
    "    move_checker = move_checker,\n",
    "    fences_horizontal={(2,1)},\n",
    "    fences_vertical={(1,0)},\n",
    "    disable_turn = True\n",
    ")\n",
    "UIBoard.pring_board(board)"
   ]
  },
  {
   "cell_type": "code",
   "execution_count": 132,
   "id": "c3f3c968",
   "metadata": {},
   "outputs": [],
   "source": [
    "node = search.find_strategy(board, terminal_test)"
   ]
  },
  {
   "cell_type": "code",
   "execution_count": 133,
   "id": "5b1e402b",
   "metadata": {},
   "outputs": [],
   "source": [
    "tmp_node = node\n",
    "actions = []\n",
    "values = []\n",
    "while True:\n",
    "    actions.append(tmp_node.action)\n",
    "    values.append(tmp_node.value)\n",
    "    if tmp_node.parent:\n",
    "        tmp_node = tmp_node.parent\n",
    "    else:\n",
    "        break\n",
    "actions = actions[::-1]\n",
    "values = values[::-1]"
   ]
  },
  {
   "cell_type": "code",
   "execution_count": 134,
   "id": "2b446182",
   "metadata": {},
   "outputs": [
    {
     "data": {
      "text/plain": [
       "6"
      ]
     },
     "execution_count": 134,
     "metadata": {},
     "output_type": "execute_result"
    }
   ],
   "source": [
    "len(actions) - 1"
   ]
  },
  {
   "cell_type": "code",
   "execution_count": 118,
   "id": "08687360",
   "metadata": {},
   "outputs": [
    {
     "name": "stdout",
     "output_type": "stream",
     "text": [
      "    0   1   2   3   4\n",
      "  ---------------------\n",
      "0 |   |   ‖ X |   |   | \n",
      "  --------------------\n",
      "1 |   |   ‖   |   |   | \n",
      "  ---------===-===----\n",
      "2 |   |   |   |   |   | \n",
      "  --------------------\n",
      "3 |   |   |   |   |   | \n",
      "  --------------------\n",
      "4 |   |   | O |   |   | \n",
      "  ---------------------\n"
     ]
    }
   ],
   "source": [
    "UIBoard.pring_board(board)"
   ]
  },
  {
   "cell_type": "code",
   "execution_count": 39,
   "id": "282b5a65",
   "metadata": {},
   "outputs": [
    {
     "name": "stdout",
     "output_type": "stream",
     "text": [
      "    0   1   2   3   4\n",
      "  ---------------------\n",
      "0 |   |   | X |   |   | \n",
      "  --------------------\n",
      "1 |   |   |   |   |   | \n",
      "  --------------------\n",
      "2 |   |   |   |   |   | \n",
      "  -------------===-===\n",
      "3 |   |   |   |   |   | \n",
      "  --------------------\n",
      "4 |   |   | O |   |   | \n",
      "  ---------------------\n"
     ]
    }
   ],
   "source": [
    "ui_board = UIBoard(\n",
    "    board_size = grid_size,\n",
    "    fences_horizontal=fences_horizontal,\n",
    "    fences_vertical=fences_vertical,\n",
    "    player_positions = player_positions\n",
    ")\n",
    "ui_board.print()"
   ]
  },
  {
   "cell_type": "code",
   "execution_count": null,
   "id": "9fd69a88",
   "metadata": {},
   "outputs": [],
   "source": []
  }
 ],
 "metadata": {
  "kernelspec": {
   "display_name": "Python 3 (ipykernel)",
   "language": "python",
   "name": "python3"
  },
  "language_info": {
   "codemirror_mode": {
    "name": "ipython",
    "version": 3
   },
   "file_extension": ".py",
   "mimetype": "text/x-python",
   "name": "python",
   "nbconvert_exporter": "python",
   "pygments_lexer": "ipython3",
   "version": "3.9.13"
  }
 },
 "nbformat": 4,
 "nbformat_minor": 5
}
