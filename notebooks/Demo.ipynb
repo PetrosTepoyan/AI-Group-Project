{
 "cells": [
  {
   "cell_type": "code",
   "execution_count": 7,
   "id": "aad48687",
   "metadata": {},
   "outputs": [
    {
     "name": "stdout",
     "output_type": "stream",
     "text": [
      "The autoreload extension is already loaded. To reload it, use:\n",
      "  %reload_ext autoreload\n"
     ]
    },
    {
     "ename": "TypeError",
     "evalue": "MoveChecker() takes no arguments",
     "output_type": "error",
     "traceback": [
      "\u001b[0;31m---------------------------------------------------------------------------\u001b[0m",
      "\u001b[0;31mTypeError\u001b[0m                                 Traceback (most recent call last)",
      "Input \u001b[0;32mIn [7]\u001b[0m, in \u001b[0;36m<cell line: 21>\u001b[0;34m()\u001b[0m\n\u001b[1;32m     15\u001b[0m fence_length \u001b[38;5;241m=\u001b[39m \u001b[38;5;241m2\u001b[39m\n\u001b[1;32m     17\u001b[0m fence_checker \u001b[38;5;241m=\u001b[39m FenceChecker(\n\u001b[1;32m     18\u001b[0m     grid_size \u001b[38;5;241m=\u001b[39m grid_size,\n\u001b[1;32m     19\u001b[0m     fence_length \u001b[38;5;241m=\u001b[39m fence_length\n\u001b[1;32m     20\u001b[0m )\n\u001b[0;32m---> 21\u001b[0m move_checker \u001b[38;5;241m=\u001b[39m \u001b[43mMoveChecker\u001b[49m\u001b[43m(\u001b[49m\u001b[43mgrid_size\u001b[49m\u001b[43m)\u001b[49m\n\u001b[1;32m     23\u001b[0m board \u001b[38;5;241m=\u001b[39m Board(\n\u001b[1;32m     24\u001b[0m     fence_checker \u001b[38;5;241m=\u001b[39m fence_checker,\n\u001b[1;32m     25\u001b[0m     player_positions \u001b[38;5;241m=\u001b[39m \u001b[38;5;28;01mNone\u001b[39;00m,\n\u001b[0;32m   (...)\u001b[0m\n\u001b[1;32m     28\u001b[0m     fences_vertical\u001b[38;5;241m=\u001b[39m\u001b[38;5;28mset\u001b[39m()\n\u001b[1;32m     29\u001b[0m )\n\u001b[1;32m     30\u001b[0m terminal_test \u001b[38;5;241m=\u001b[39m BoardTerminalTest()\n",
      "\u001b[0;31mTypeError\u001b[0m: MoveChecker() takes no arguments"
     ]
    }
   ],
   "source": [
    "%load_ext autoreload\n",
    "%autoreload 2\n",
    "\n",
    "import sys\n",
    "sys.setrecursionlimit(10000)\n",
    "from IPython.display import clear_output\n",
    "sys.path.append(\"..\")\n",
    "\n",
    "from GameFlow import Board, BoardTerminalTest, FenceChecker, MoveChecker\n",
    "from Search import MinimaxSearch, AlphaBetaSearch, DLMinimaxSearch, DLAlphaBetaSearch\n",
    "from Heuristics import DistanceHeuristic\n",
    "from UIKit import UIBoard\n",
    "\n",
    "grid_size = 5\n",
    "fence_length = 2\n",
    "\n",
    "fence_checker = FenceChecker(\n",
    "    grid_size = grid_size,\n",
    "    fence_length = fence_length\n",
    ")\n",
    "move_checker = MoveChecker(grid_size)\n",
    "\n",
    "board = Board(\n",
    "    fence_checker = fence_checker,\n",
    "    player_positions = None,\n",
    "    move_checker = move_checker,\n",
    "    fences_horizontal=set(),\n",
    "    fences_vertical=set()\n",
    ")\n",
    "terminal_test = BoardTerminalTest()\n",
    "heuristic = DistanceHeuristic()\n",
    "depth = 10"
   ]
  },
  {
   "cell_type": "code",
   "execution_count": 8,
   "id": "9bf840fa",
   "metadata": {},
   "outputs": [
    {
     "ename": "AttributeError",
     "evalue": "'tuple' object has no attribute 'player_positions'",
     "output_type": "error",
     "traceback": [
      "\u001b[0;31m---------------------------------------------------------------------------\u001b[0m",
      "\u001b[0;31mAttributeError\u001b[0m                            Traceback (most recent call last)",
      "Input \u001b[0;32mIn [8]\u001b[0m, in \u001b[0;36m<cell line: 9>\u001b[0;34m()\u001b[0m\n\u001b[1;32m      2\u001b[0m search_required \u001b[38;5;241m=\u001b[39m \u001b[38;5;28;01mFalse\u001b[39;00m\n\u001b[1;32m      4\u001b[0m search \u001b[38;5;241m=\u001b[39m DLAlphaBetaSearch(\n\u001b[1;32m      5\u001b[0m     depth \u001b[38;5;241m=\u001b[39m depth,\n\u001b[1;32m      6\u001b[0m     heuristic \u001b[38;5;241m=\u001b[39m heuristic\n\u001b[1;32m      7\u001b[0m )\n\u001b[0;32m----> 9\u001b[0m strategy \u001b[38;5;241m=\u001b[39m \u001b[43msearch\u001b[49m\u001b[38;5;241;43m.\u001b[39;49m\u001b[43mfind_strategy\u001b[49m\u001b[43m(\u001b[49m\u001b[43mtmp_board\u001b[49m\u001b[43m,\u001b[49m\u001b[43m \u001b[49m\u001b[43mterminal_test\u001b[49m\u001b[43m)\u001b[49m\n\u001b[1;32m     10\u001b[0m \u001b[38;5;28mprint\u001b[39m(\u001b[38;5;124m\"\u001b[39m\u001b[38;5;124mSearching...\u001b[39m\u001b[38;5;124m\"\u001b[39m)\n\u001b[1;32m     12\u001b[0m \u001b[38;5;28;01mwhile\u001b[39;00m \u001b[38;5;28;01mTrue\u001b[39;00m:\n",
      "File \u001b[0;32m~/Desktop/Education/AI2/AI-Group-Project/Code/notebooks/../Search/DLAlphaBetaSearch.py:16\u001b[0m, in \u001b[0;36mDLAlphaBetaSearch.find_strategy\u001b[0;34m(self, initial_state, terminal_test)\u001b[0m\n\u001b[1;32m     14\u001b[0m \u001b[38;5;28mself\u001b[39m\u001b[38;5;241m.\u001b[39mvisited_states \u001b[38;5;241m=\u001b[39m \u001b[38;5;28mset\u001b[39m()\n\u001b[1;32m     15\u001b[0m \u001b[38;5;28mself\u001b[39m\u001b[38;5;241m.\u001b[39m_number_of_generated_states \u001b[38;5;241m=\u001b[39m \u001b[38;5;241m0\u001b[39m\n\u001b[0;32m---> 16\u001b[0m \u001b[38;5;28;43mself\u001b[39;49m\u001b[38;5;241;43m.\u001b[39;49m\u001b[43mmax_value\u001b[49m\u001b[43m(\u001b[49m\n\u001b[1;32m     17\u001b[0m \u001b[43m    \u001b[49m\u001b[43mdeepcopy\u001b[49m\u001b[43m(\u001b[49m\u001b[43minitial_state\u001b[49m\u001b[43m)\u001b[49m\u001b[43m,\u001b[49m\n\u001b[1;32m     18\u001b[0m \u001b[43m    \u001b[49m\u001b[43mterminal_test\u001b[49m\u001b[43m,\u001b[49m\n\u001b[1;32m     19\u001b[0m \u001b[43m    \u001b[49m\u001b[38;5;241;43m-\u001b[39;49m\u001b[43minf\u001b[49m\u001b[43m,\u001b[49m\u001b[43m \u001b[49m\u001b[43minf\u001b[49m\u001b[43m,\u001b[49m\n\u001b[1;32m     20\u001b[0m \u001b[43m    \u001b[49m\u001b[43mstrategy\u001b[49m\u001b[43m,\u001b[49m\n\u001b[1;32m     21\u001b[0m \u001b[43m    \u001b[49m\u001b[38;5;28;43mself\u001b[39;49m\u001b[38;5;241;43m.\u001b[39;49m\u001b[43mdepth\u001b[49m\n\u001b[1;32m     22\u001b[0m \u001b[43m\u001b[49m\u001b[43m)\u001b[49m\n\u001b[1;32m     23\u001b[0m \u001b[38;5;28;01mreturn\u001b[39;00m strategy\n",
      "File \u001b[0;32m~/Desktop/Education/AI2/AI-Group-Project/Code/notebooks/../Search/DLAlphaBetaSearch.py:53\u001b[0m, in \u001b[0;36mDLAlphaBetaSearch.max_value\u001b[0;34m(self, state, terminal_test, alpha, beta, strategy, depth)\u001b[0m\n\u001b[1;32m     50\u001b[0m v \u001b[38;5;241m=\u001b[39m \u001b[38;5;241m-\u001b[39minf\n\u001b[1;32m     51\u001b[0m move \u001b[38;5;241m=\u001b[39m \u001b[38;5;28;01mNone\u001b[39;00m\n\u001b[0;32m---> 53\u001b[0m actions \u001b[38;5;241m=\u001b[39m \u001b[43mstate\u001b[49m\u001b[38;5;241;43m.\u001b[39;49m\u001b[43mget_applicable_actions\u001b[49m\u001b[43m(\u001b[49m\u001b[43m)\u001b[49m\n\u001b[1;32m     55\u001b[0m \u001b[38;5;28;01mif\u001b[39;00m \u001b[38;5;28mlen\u001b[39m(actions) \u001b[38;5;241m==\u001b[39m \u001b[38;5;241m0\u001b[39m:\n\u001b[1;32m     56\u001b[0m     \u001b[38;5;28mself\u001b[39m\u001b[38;5;241m.\u001b[39mstate_utilities[state] \u001b[38;5;241m=\u001b[39m \u001b[38;5;241m0\u001b[39m\n",
      "File \u001b[0;32m~/Desktop/Education/AI2/AI-Group-Project/Code/notebooks/../GameFlow/Board.py:55\u001b[0m, in \u001b[0;36mBoard.get_applicable_actions\u001b[0;34m(self)\u001b[0m\n\u001b[1;32m     53\u001b[0m \u001b[38;5;66;03m# Calculate possible moves for the pawn\u001b[39;00m\n\u001b[1;32m     54\u001b[0m current_pos \u001b[38;5;241m=\u001b[39m \u001b[38;5;28mself\u001b[39m\u001b[38;5;241m.\u001b[39mplayer_positions[\u001b[38;5;28mself\u001b[39m\u001b[38;5;241m.\u001b[39mcurrent_player]\n\u001b[0;32m---> 55\u001b[0m movable_coords \u001b[38;5;241m=\u001b[39m \u001b[38;5;28;43mself\u001b[39;49m\u001b[38;5;241;43m.\u001b[39;49m\u001b[43mget_movable_coords\u001b[49m\u001b[43m(\u001b[49m\u001b[43m)\u001b[49m\n\u001b[1;32m     56\u001b[0m \u001b[38;5;28;01mfor\u001b[39;00m coord \u001b[38;5;129;01min\u001b[39;00m movable_coords:\n\u001b[1;32m     57\u001b[0m     move \u001b[38;5;241m=\u001b[39m Move(from_coord \u001b[38;5;241m=\u001b[39m current_pos,\n\u001b[1;32m     58\u001b[0m                 to_coord \u001b[38;5;241m=\u001b[39m coord)\n",
      "File \u001b[0;32m~/Desktop/Education/AI2/AI-Group-Project/Code/notebooks/../GameFlow/Board.py:107\u001b[0m, in \u001b[0;36mBoard.get_movable_coords\u001b[0;34m(self)\u001b[0m\n\u001b[1;32m    105\u001b[0m \u001b[38;5;28;01mdef\u001b[39;00m \u001b[38;5;21mget_movable_coords\u001b[39m(\u001b[38;5;28mself\u001b[39m) \u001b[38;5;241m-\u001b[39m\u001b[38;5;241m>\u001b[39m \u001b[38;5;28mset\u001b[39m[\u001b[38;5;28mtuple\u001b[39m[\u001b[38;5;28mint\u001b[39m, \u001b[38;5;28mint\u001b[39m]]:\n\u001b[1;32m    106\u001b[0m     \u001b[38;5;124;03m\"\"\"Returns a set of coordinates the current player can move to\"\"\"\u001b[39;00m\n\u001b[0;32m--> 107\u001b[0m     \u001b[38;5;28;01mreturn\u001b[39;00m \u001b[38;5;28;43mself\u001b[39;49m\u001b[38;5;241;43m.\u001b[39;49m\u001b[43mmove_checker\u001b[49m\u001b[38;5;241;43m.\u001b[39;49m\u001b[43mget_movable_coords\u001b[49m\u001b[43m(\u001b[49m\u001b[38;5;28;43mself\u001b[39;49m\u001b[43m,\u001b[49m\u001b[43m \u001b[49m\n\u001b[1;32m    108\u001b[0m \u001b[43m                                                \u001b[49m\u001b[38;5;28;43mself\u001b[39;49m\u001b[38;5;241;43m.\u001b[39;49m\u001b[43mplayer_positions\u001b[49m\u001b[43m[\u001b[49m\u001b[38;5;28;43mself\u001b[39;49m\u001b[38;5;241;43m.\u001b[39;49m\u001b[43mcurrent_player\u001b[49m\u001b[43m]\u001b[49m\u001b[43m,\u001b[49m\n\u001b[1;32m    109\u001b[0m \u001b[43m                                                \u001b[49m\u001b[38;5;28;43mself\u001b[39;49m\u001b[38;5;241;43m.\u001b[39;49m\u001b[43mplayer_positions\u001b[49m\u001b[43m[\u001b[49m\u001b[38;5;28;43mself\u001b[39;49m\u001b[38;5;241;43m.\u001b[39;49m\u001b[43mcurrent_opponent\u001b[49m\u001b[43m]\u001b[49m\u001b[43m)\u001b[49m\n",
      "File \u001b[0;32m~/Desktop/Education/AI2/AI-Group-Project/Code/notebooks/../GameFlow/MoveChecker.py:18\u001b[0m, in \u001b[0;36mMoveChecker.get_movable_coords\u001b[0;34m(self, board, player_coord, opponent_coord)\u001b[0m\n\u001b[1;32m     16\u001b[0m \u001b[38;5;66;03m# print(f\"next coord is {next_coord}, is it blocked by fence? {is_blocking_fence}\")\u001b[39;00m\n\u001b[1;32m     17\u001b[0m \u001b[38;5;28;01mif\u001b[39;00m \u001b[38;5;28mself\u001b[39m\u001b[38;5;241m.\u001b[39mis_within_board(board, next_coord) \u001b[38;5;129;01mand\u001b[39;00m \u001b[38;5;129;01mnot\u001b[39;00m is_blocking_fence:\n\u001b[0;32m---> 18\u001b[0m     jumping_coords_if_any \u001b[38;5;241m=\u001b[39m \u001b[38;5;28;43mself\u001b[39;49m\u001b[38;5;241;43m.\u001b[39;49m\u001b[43mjump_over_coords\u001b[49m\u001b[43m(\u001b[49m\u001b[43mplayer_coord\u001b[49m\u001b[43m,\u001b[49m\u001b[43m \u001b[49m\u001b[43mopponent_coord\u001b[49m\u001b[43m)\u001b[49m\n\u001b[1;32m     19\u001b[0m     movable_coords \u001b[38;5;241m=\u001b[39m movable_coords \u001b[38;5;241m|\u001b[39m jumping_coords_if_any\n\u001b[1;32m     21\u001b[0m     \u001b[38;5;28;01mif\u001b[39;00m next_coord \u001b[38;5;241m!=\u001b[39m opponent_coord:\n",
      "File \u001b[0;32m~/Desktop/Education/AI2/AI-Group-Project/Code/notebooks/../GameFlow/MoveChecker.py:32\u001b[0m, in \u001b[0;36mMoveChecker.jump_over_coords\u001b[0;34m(self, board, player_coord, opponent_coord)\u001b[0m\n\u001b[1;32m     30\u001b[0m     player_coord \u001b[38;5;241m=\u001b[39m board\u001b[38;5;241m.\u001b[39mplayer_positions[board\u001b[38;5;241m.\u001b[39mcurrent_player]\n\u001b[1;32m     31\u001b[0m \u001b[38;5;28;01mif\u001b[39;00m opponent_coord \u001b[38;5;129;01mis\u001b[39;00m \u001b[38;5;28;01mNone\u001b[39;00m:\n\u001b[0;32m---> 32\u001b[0m     opponent_coord \u001b[38;5;241m=\u001b[39m \u001b[43mboard\u001b[49m\u001b[38;5;241;43m.\u001b[39;49m\u001b[43mplayer_positions\u001b[49m[board\u001b[38;5;241m.\u001b[39mcurrent_opponent]\n\u001b[1;32m     34\u001b[0m \u001b[38;5;28;01mif\u001b[39;00m \u001b[38;5;28mself\u001b[39m\u001b[38;5;241m.\u001b[39mis_fence_blocking(board, player_coord, opponent_coord):\n\u001b[1;32m     35\u001b[0m     \u001b[38;5;28;01mreturn\u001b[39;00m \u001b[38;5;28mset\u001b[39m()\n",
      "\u001b[0;31mAttributeError\u001b[0m: 'tuple' object has no attribute 'player_positions'"
     ]
    }
   ],
   "source": [
    "# tmp_board = board\n",
    "search_required = False\n",
    "\n",
    "search = DLAlphaBetaSearch(\n",
    "    depth = depth,\n",
    "    heuristic = heuristic\n",
    ")\n",
    "\n",
    "strategy = search.find_strategy(tmp_board, terminal_test)\n",
    "print(\"Searching...\")\n",
    "\n",
    "while True:\n",
    "    clear_output(wait=False)\n",
    "    \n",
    "    ui_board = UIBoard(\n",
    "        board_size = tmp_board.move_checker.grid_size,\n",
    "        fences_horizontal = tmp_board.fences_horizontal,\n",
    "        fences_vertical = tmp_board.fences_vertical,\n",
    "        player_positions = tmp_board.player_positions\n",
    "    )\n",
    "    ui_board.print()\n",
    "    \n",
    "    actions = tmp_board.get_applicable_actions()\n",
    "    actions_desc = [f\"{i + 1}. {'' if i + 1 >= 10 else ' '} {action}\" for i, action in enumerate(actions)]\n",
    "    actions_desc.append(\"q - to quit\")\n",
    "    actions_desc.append(\"s - search again\")\n",
    "    \n",
    "    if strategy.get(tmp_board):\n",
    "        search_required = False\n",
    "        best_move = strategy[tmp_board]\n",
    "        best_move_index = actions.index(best_move)\n",
    "        print(\"Suggested move:\", best_move_index + 1, \"|\", best_move)\n",
    "        print()\n",
    "    else:\n",
    "        print(\"No suggestions! Try to search again.\")\n",
    "    \n",
    "    for action in actions_desc:\n",
    "        print(action)\n",
    "    \n",
    "    move_num = input(\"What move? \")\n",
    "    \n",
    "    if move_num == 'q':\n",
    "        break\n",
    "        \n",
    "    if move_num == 's':\n",
    "        search = DLAlphaBetaSearch(\n",
    "            depth = depth,\n",
    "            heuristic = heuristic\n",
    "        )\n",
    "\n",
    "        print(\"Searching...\")\n",
    "        strategy = search.find_strategy(tmp_board, terminal_test)\n",
    "        continue\n",
    "        \n",
    "    move_num = int(move_num)\n",
    "    action = actions[move_num - 1]\n",
    "    tmp_board = tmp_board.get_action_result(action)"
   ]
  },
  {
   "cell_type": "code",
   "execution_count": null,
   "id": "063abdb2",
   "metadata": {},
   "outputs": [],
   "source": [
    "a_l = []\n",
    "for s in range(3,9):\n",
    "    fence_length = 2\n",
    "\n",
    "    fence_checker = FenceChecker(\n",
    "        grid_size = s,\n",
    "        fence_length = fence_length\n",
    "    )\n",
    "    move_checker = MoveChecker(s)\n",
    "\n",
    "    board = Board(\n",
    "        grid_size = s,\n",
    "        fence_checker = fence_checker,\n",
    "        player_positions = None,\n",
    "        move_checker = move_checker,\n",
    "        fences_horizontal=set(),\n",
    "        fences_vertical=set()\n",
    "    )\n",
    "    a_l.append(len(board.get_applicable_actions()))"
   ]
  },
  {
   "cell_type": "code",
   "execution_count": 8,
   "id": "8a660172",
   "metadata": {},
   "outputs": [
    {
     "ename": "ModuleNotFoundError",
     "evalue": "No module named 'matplotlib'",
     "output_type": "error",
     "traceback": [
      "\u001b[1;31m---------------------------------------------------------------------------\u001b[0m",
      "\u001b[1;31mModuleNotFoundError\u001b[0m                       Traceback (most recent call last)",
      "Cell \u001b[1;32mIn[8], line 1\u001b[0m\n\u001b[1;32m----> 1\u001b[0m \u001b[38;5;28;01mimport\u001b[39;00m \u001b[38;5;21;01mmatplotlib\u001b[39;00m\u001b[38;5;21;01m.\u001b[39;00m\u001b[38;5;21;01mpyplot\u001b[39;00m \u001b[38;5;28;01mas\u001b[39;00m \u001b[38;5;21;01mplt\u001b[39;00m\n\u001b[0;32m      3\u001b[0m plt\u001b[38;5;241m.\u001b[39mstyle\u001b[38;5;241m.\u001b[39muse(\u001b[38;5;124m'\u001b[39m\u001b[38;5;124mggplot\u001b[39m\u001b[38;5;124m'\u001b[39m)\n\u001b[0;32m      4\u001b[0m plt\u001b[38;5;241m.\u001b[39mbar(\u001b[38;5;28mrange\u001b[39m(\u001b[38;5;241m3\u001b[39m,\u001b[38;5;241m9\u001b[39m), a_l, color \u001b[38;5;241m=\u001b[39m \u001b[38;5;124m'\u001b[39m\u001b[38;5;124mskyblue\u001b[39m\u001b[38;5;124m'\u001b[39m)\n",
      "\u001b[1;31mModuleNotFoundError\u001b[0m: No module named 'matplotlib'"
     ]
    }
   ],
   "source": [
    "import matplotlib.pyplot as plt\n",
    "\n",
    "plt.style.use('ggplot')\n",
    "plt.bar(range(3,9), a_l, color = 'skyblue')\n",
    "\n",
    "# Adding title and labels (optional)\n",
    "\n",
    "plt.title(\"Number of actions at start\")\n",
    "plt.xticks(range(3,9))\n",
    "plt.xlabel(\"Board size\")\n",
    "plt.ylabel(\"Actions\")\n",
    "plt.tight_layout()\n",
    "plt.savefig(\"n_actions.png\", dpi = 800)\n",
    "plt.show()\n"
   ]
  },
  {
   "cell_type": "code",
   "execution_count": 9,
   "id": "c2528d3f",
   "metadata": {},
   "outputs": [
    {
     "ename": "",
     "evalue": "",
     "output_type": "error",
     "traceback": [
      "\u001b[1;31mThe Kernel crashed while executing code in the the current cell or a previous cell. Please review the code in the cell(s) to identify a possible cause of the failure. Click <a href='https://aka.ms/vscodeJupyterKernelCrash'>here</a> for more info. View Jupyter <a href='command:jupyter.viewOutput'>log</a> for further details."
     ]
    }
   ],
   "source": [
    "pip install matplotlib"
   ]
  },
  {
   "cell_type": "code",
   "execution_count": null,
   "id": "bf242a48",
   "metadata": {},
   "outputs": [],
   "source": []
  }
 ],
 "metadata": {
  "kernelspec": {
   "display_name": "Python 3 (ipykernel)",
   "language": "python",
   "name": "python3"
  },
  "language_info": {
   "codemirror_mode": {
    "name": "ipython",
    "version": 3
   },
   "file_extension": ".py",
   "mimetype": "text/x-python",
   "name": "python",
   "nbconvert_exporter": "python",
   "pygments_lexer": "ipython3",
   "version": "3.9.13"
  }
 },
 "nbformat": 4,
 "nbformat_minor": 5
}
