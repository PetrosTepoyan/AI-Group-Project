{
 "cells": [
  {
   "cell_type": "code",
   "execution_count": 4,
   "id": "aad48687",
   "metadata": {},
   "outputs": [
    {
     "name": "stdout",
     "output_type": "stream",
     "text": [
      "The autoreload extension is already loaded. To reload it, use:\n",
      "  %reload_ext autoreload\n"
     ]
    }
   ],
   "source": [
    "%load_ext autoreload\n",
    "%autoreload 2\n",
    "\n",
    "import sys\n",
    "sys.setrecursionlimit(10000)\n",
    "from IPython.display import clear_output\n",
    "sys.path.append(\"..\")\n",
    "\n",
    "from GameFlow import Board, BoardTerminalTest, FenceChecker, MoveChecker\n",
    "from Search import MinimaxSearch, AlphaBetaSearch, DLMinimaxSearch, DLAlphaBetaSearch\n",
    "from Heuristics import DistanceHeuristic\n",
    "from UIKit import UIBoard\n",
    "\n",
    "grid_size = 5\n",
    "fence_length = 2\n",
    "\n",
    "fence_checker = FenceChecker(\n",
    "    grid_size = grid_size,\n",
    "    fence_length = fence_length\n",
    ")\n",
    "move_checker = MoveChecker(grid_size)\n",
    "\n",
    "board = Board(\n",
    "    fence_checker = fence_checker,\n",
    "    player_positions = None,\n",
    "    move_checker = move_checker,\n",
    "    fences_horizontal=set(),\n",
    "    fences_vertical=set()\n",
    ")\n",
    "terminal_test = BoardTerminalTest()\n",
    "heuristic = DistanceHeuristic()\n",
    "depth = 10"
   ]
  },
  {
   "cell_type": "code",
   "execution_count": 5,
   "id": "8b91e673",
   "metadata": {
    "scrolled": true
   },
   "outputs": [
    {
     "name": "stdout",
     "output_type": "stream",
     "text": [
      "    0   1   2   3   4\n",
      "  ---------------------\n",
      "0 |   |   | X |   |   | \n",
      "  --------------------\n",
      "1 |   |   |   |   |   | \n",
      "  --------------------\n",
      "2 |   |   |   |   |   | \n",
      "  --------------------\n",
      "3 |   |   |   |   |   | \n",
      "  --------------------\n",
      "4 |   |   | O |   |   | \n",
      "  ---------------------\n",
      "Suggested move: 1 | Move | (2, 0) (1, 0)\n",
      "\n",
      "1.   Move | (2, 0) (1, 0)\n",
      "2.   Move | (2, 0) (2, 1)\n",
      "3.   Move | (2, 0) (3, 0)\n",
      "4.   PlaceFence | H at (0, 0)\n",
      "5.   PlaceFence | V at (0, 0)\n",
      "6.   PlaceFence | H at (0, 1)\n",
      "7.   PlaceFence | V at (0, 1)\n",
      "8.   PlaceFence | H at (0, 2)\n",
      "9.   PlaceFence | V at (0, 2)\n",
      "10.  PlaceFence | H at (0, 3)\n",
      "11.  PlaceFence | V at (0, 3)\n",
      "12.  PlaceFence | H at (1, 0)\n",
      "13.  PlaceFence | V at (1, 0)\n",
      "14.  PlaceFence | H at (1, 1)\n",
      "15.  PlaceFence | V at (1, 1)\n",
      "16.  PlaceFence | H at (1, 2)\n",
      "17.  PlaceFence | V at (1, 2)\n",
      "18.  PlaceFence | H at (1, 3)\n",
      "19.  PlaceFence | V at (1, 3)\n",
      "20.  PlaceFence | H at (2, 0)\n",
      "21.  PlaceFence | V at (2, 0)\n",
      "22.  PlaceFence | H at (2, 1)\n",
      "23.  PlaceFence | V at (2, 1)\n",
      "24.  PlaceFence | H at (2, 2)\n",
      "25.  PlaceFence | V at (2, 2)\n",
      "26.  PlaceFence | H at (2, 3)\n",
      "27.  PlaceFence | V at (2, 3)\n",
      "28.  PlaceFence | H at (3, 0)\n",
      "29.  PlaceFence | V at (3, 0)\n",
      "30.  PlaceFence | H at (3, 1)\n",
      "31.  PlaceFence | V at (3, 1)\n",
      "32.  PlaceFence | H at (3, 2)\n",
      "33.  PlaceFence | V at (3, 2)\n",
      "34.  PlaceFence | H at (3, 3)\n",
      "35.  PlaceFence | V at (3, 3)\n",
      "q - to quit\n",
      "s - search again\n"
     ]
    },
    {
     "ename": "ValueError",
     "evalue": "invalid literal for int() with base 10: ''",
     "output_type": "error",
     "traceback": [
      "\u001b[1;31m---------------------------------------------------------------------------\u001b[0m",
      "\u001b[1;31mValueError\u001b[0m                                Traceback (most recent call last)",
      "Cell \u001b[1;32mIn[5], line 55\u001b[0m\n\u001b[0;32m     52\u001b[0m     strategy \u001b[38;5;241m=\u001b[39m search\u001b[38;5;241m.\u001b[39mfind_strategy(tmp_board, terminal_test)\n\u001b[0;32m     53\u001b[0m     \u001b[38;5;28;01mcontinue\u001b[39;00m\n\u001b[1;32m---> 55\u001b[0m move_num \u001b[38;5;241m=\u001b[39m \u001b[38;5;28;43mint\u001b[39;49m\u001b[43m(\u001b[49m\u001b[43mmove_num\u001b[49m\u001b[43m)\u001b[49m\n\u001b[0;32m     56\u001b[0m action \u001b[38;5;241m=\u001b[39m actions[move_num \u001b[38;5;241m-\u001b[39m \u001b[38;5;241m1\u001b[39m]\n\u001b[0;32m     57\u001b[0m tmp_board \u001b[38;5;241m=\u001b[39m tmp_board\u001b[38;5;241m.\u001b[39mget_action_result(action)\n",
      "\u001b[1;31mValueError\u001b[0m: invalid literal for int() with base 10: ''"
     ]
    }
   ],
   "source": [
    "tmp_board = board\n",
    "search_required = False\n",
    "\n",
    "search = DLAlphaBetaSearch(\n",
    "    depth = depth,\n",
    "    heuristic = heuristic\n",
    ")\n",
    "\n",
    "strategy = search.find_strategy(tmp_board, terminal_test)\n",
    "print(\"Searching...\")\n",
    "\n",
    "while True:\n",
    "    clear_output(wait=False)\n",
    "    \n",
    "    ui_board = UIBoard(\n",
    "        board_size = tmp_board.move_checker.grid_size,\n",
    "        fences_horizontal = tmp_board.fences_horizontal,\n",
    "        fences_vertical = tmp_board.fences_vertical,\n",
    "        player_positions = tmp_board.player_positions\n",
    "    )\n",
    "    ui_board.print()\n",
    "    \n",
    "    actions = tmp_board.get_applicable_actions()\n",
    "    actions_desc = [f\"{i + 1}. {'' if i + 1 >= 10 else ' '} {action}\" for i, action in enumerate(actions)]\n",
    "    actions_desc.append(\"q - to quit\")\n",
    "    actions_desc.append(\"s - search again\")\n",
    "    \n",
    "    if strategy.get(tmp_board):\n",
    "        search_required = False\n",
    "        best_move = strategy[tmp_board]\n",
    "        best_move_index = actions.index(best_move)\n",
    "        print(\"Suggested move:\", best_move_index + 1, \"|\", best_move)\n",
    "        print()\n",
    "    else:\n",
    "        print(\"No suggestions! Try to search again.\")\n",
    "    \n",
    "    for action in actions_desc:\n",
    "        print(action)\n",
    "    \n",
    "    move_num = input(\"What move? \")\n",
    "    \n",
    "    if move_num == 'q':\n",
    "        break\n",
    "        \n",
    "    if move_num == 's':\n",
    "        search = DLAlphaBetaSearch(\n",
    "            depth = depth,\n",
    "            heuristic = heuristic\n",
    "        )\n",
    "\n",
    "        print(\"Searching...\")\n",
    "        strategy = search.find_strategy(tmp_board, terminal_test)\n",
    "        continue\n",
    "        \n",
    "    move_num = int(move_num)\n",
    "    action = actions[move_num - 1]\n",
    "    tmp_board = tmp_board.get_action_result(action)"
   ]
  },
  {
   "cell_type": "code",
   "execution_count": 7,
   "id": "063abdb2",
   "metadata": {},
   "outputs": [],
   "source": [
    "a_l = []\n",
    "for s in range(3,9):\n",
    "    fence_length = 2\n",
    "\n",
    "    fence_checker = FenceChecker(\n",
    "        grid_size = s,\n",
    "        fence_length = fence_length\n",
    "    )\n",
    "    move_checker = MoveChecker(s)\n",
    "\n",
    "    board = Board(\n",
    "        grid_size = s,\n",
    "        fence_checker = fence_checker,\n",
    "        player_positions = None,\n",
    "        move_checker = move_checker,\n",
    "        fences_horizontal=set(),\n",
    "        fences_vertical=set()\n",
    "    )\n",
    "    a_l.append(len(board.get_applicable_actions()))"
   ]
  },
  {
   "cell_type": "code",
   "execution_count": 8,
   "id": "8a660172",
   "metadata": {},
   "outputs": [
    {
     "ename": "ModuleNotFoundError",
     "evalue": "No module named 'matplotlib'",
     "output_type": "error",
     "traceback": [
      "\u001b[1;31m---------------------------------------------------------------------------\u001b[0m",
      "\u001b[1;31mModuleNotFoundError\u001b[0m                       Traceback (most recent call last)",
      "Cell \u001b[1;32mIn[8], line 1\u001b[0m\n\u001b[1;32m----> 1\u001b[0m \u001b[38;5;28;01mimport\u001b[39;00m \u001b[38;5;21;01mmatplotlib\u001b[39;00m\u001b[38;5;21;01m.\u001b[39;00m\u001b[38;5;21;01mpyplot\u001b[39;00m \u001b[38;5;28;01mas\u001b[39;00m \u001b[38;5;21;01mplt\u001b[39;00m\n\u001b[0;32m      3\u001b[0m plt\u001b[38;5;241m.\u001b[39mstyle\u001b[38;5;241m.\u001b[39muse(\u001b[38;5;124m'\u001b[39m\u001b[38;5;124mggplot\u001b[39m\u001b[38;5;124m'\u001b[39m)\n\u001b[0;32m      4\u001b[0m plt\u001b[38;5;241m.\u001b[39mbar(\u001b[38;5;28mrange\u001b[39m(\u001b[38;5;241m3\u001b[39m,\u001b[38;5;241m9\u001b[39m), a_l, color \u001b[38;5;241m=\u001b[39m \u001b[38;5;124m'\u001b[39m\u001b[38;5;124mskyblue\u001b[39m\u001b[38;5;124m'\u001b[39m)\n",
      "\u001b[1;31mModuleNotFoundError\u001b[0m: No module named 'matplotlib'"
     ]
    }
   ],
   "source": [
    "import matplotlib.pyplot as plt\n",
    "\n",
    "plt.style.use('ggplot')\n",
    "plt.bar(range(3,9), a_l, color = 'skyblue')\n",
    "\n",
    "# Adding title and labels (optional)\n",
    "\n",
    "plt.title(\"Number of actions at start\")\n",
    "plt.xticks(range(3,9))\n",
    "plt.xlabel(\"Board size\")\n",
    "plt.ylabel(\"Actions\")\n",
    "plt.tight_layout()\n",
    "plt.savefig(\"n_actions.png\", dpi = 800)\n",
    "plt.show()\n"
   ]
  },
  {
   "cell_type": "code",
   "execution_count": 9,
   "id": "c2528d3f",
   "metadata": {},
   "outputs": [
    {
     "ename": "",
     "evalue": "",
     "output_type": "error",
     "traceback": [
      "\u001b[1;31mThe Kernel crashed while executing code in the the current cell or a previous cell. Please review the code in the cell(s) to identify a possible cause of the failure. Click <a href='https://aka.ms/vscodeJupyterKernelCrash'>here</a> for more info. View Jupyter <a href='command:jupyter.viewOutput'>log</a> for further details."
     ]
    }
   ],
   "source": [
    "pip install matplotlib"
   ]
  },
  {
   "cell_type": "code",
   "execution_count": null,
   "id": "bf242a48",
   "metadata": {},
   "outputs": [],
   "source": []
  }
 ],
 "metadata": {
  "kernelspec": {
   "display_name": "Python 3 (ipykernel)",
   "language": "python",
   "name": "python3"
  },
  "language_info": {
   "codemirror_mode": {
    "name": "ipython",
    "version": 3
   },
   "file_extension": ".py",
   "mimetype": "text/x-python",
   "name": "python",
   "nbconvert_exporter": "python",
   "pygments_lexer": "ipython3",
   "version": "3.10.11"
  }
 },
 "nbformat": 4,
 "nbformat_minor": 5
}
