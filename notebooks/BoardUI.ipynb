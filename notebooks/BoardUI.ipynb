{
 "cells": [
  {
   "cell_type": "code",
   "execution_count": 1,
   "id": "5dea39d7",
   "metadata": {},
   "outputs": [],
   "source": [
    "%load_ext autoreload\n",
    "%autoreload 2"
   ]
  },
  {
   "cell_type": "code",
   "execution_count": 2,
   "id": "88c97310",
   "metadata": {},
   "outputs": [
    {
     "ename": "ModuleNotFoundError",
     "evalue": "No module named 'Core'",
     "output_type": "error",
     "traceback": [
      "\u001b[1;31m---------------------------------------------------------------------------\u001b[0m",
      "\u001b[1;31mModuleNotFoundError\u001b[0m                       Traceback (most recent call last)",
      "Cell \u001b[1;32mIn[2], line 1\u001b[0m\n\u001b[1;32m----> 1\u001b[0m \u001b[38;5;28;01mfrom\u001b[39;00m \u001b[38;5;21;01mCore\u001b[39;00m \u001b[38;5;28;01mimport\u001b[39;00m Player\n\u001b[0;32m      3\u001b[0m \u001b[38;5;28;01mclass\u001b[39;00m \u001b[38;5;21;01mUIBoard\u001b[39;00m:\n\u001b[0;32m      4\u001b[0m     \u001b[38;5;28;01mdef\u001b[39;00m \u001b[38;5;21m__init__\u001b[39m(\u001b[38;5;28mself\u001b[39m, board_size \u001b[38;5;241m=\u001b[39m \u001b[38;5;241m9\u001b[39m, fences_horizontal \u001b[38;5;241m=\u001b[39m \u001b[38;5;28mset\u001b[39m(), fences_vertical \u001b[38;5;241m=\u001b[39m \u001b[38;5;28mset\u001b[39m(), player_positions \u001b[38;5;241m=\u001b[39m {\n\u001b[0;32m      5\u001b[0m             Player\u001b[38;5;241m.\u001b[39mMAX: (\u001b[38;5;241m4\u001b[39m, \u001b[38;5;241m0\u001b[39m),\n\u001b[0;32m      6\u001b[0m             Player\u001b[38;5;241m.\u001b[39mMIN: (\u001b[38;5;241m4\u001b[39m, \u001b[38;5;241m8\u001b[39m),\n\u001b[0;32m      7\u001b[0m         }):\n",
      "\u001b[1;31mModuleNotFoundError\u001b[0m: No module named 'Core'"
     ]
    }
   ],
   "source": [
    "from Core import Player\n",
    "\n",
    "class UIBoard:\n",
    "    def __init__(self, board_size = 9, fences_horizontal = set(), fences_vertical = set(), player_positions = {\n",
    "            Player.MAX: (4, 0),\n",
    "            Player.MIN: (4, 8),\n",
    "        }):\n",
    "        self.board_size = board_size\n",
    "        self.fences_horizontal = fences_horizontal\n",
    "        self.fences_vertical = fences_vertical\n",
    "        self.player_positions = { value : (\"X\" if key == Player.MAX else \"O\") for key, value in player_positions.items()}\n",
    "\n",
    "    def col_symb(self, in_cell, coord):\n",
    "        same = (coord in self.fences_vertical)\n",
    "        to_up = (up(coord) in self.fences_vertical)\n",
    "        col_symb = \" \\u2016 \" if (same or to_up) else \" | \"\n",
    "        ret_val = in_cell + col_symb\n",
    "        return ret_val\n",
    "\n",
    "    def row_symb(self, coord):\n",
    "        same = (coord in self.fences_horizontal)\n",
    "        to_right = (left(coord) in self.fences_horizontal)\n",
    "        row_symb = \"===\" if (same or to_right) else \"---\"\n",
    "        return row_symb\n",
    "\n",
    "    def in_cell_symb(self, coord):\n",
    "        in_cell = self.player_positions.get(coord)\n",
    "        if in_cell is None:\n",
    "            return \" \"\n",
    "        else:\n",
    "            return in_cell\n",
    "\n",
    "    def print(self):\n",
    "        print(\"  \" + \"   \".join([str(i) for i in range(self.board_size)]))\n",
    "        for i in range(0, self.board_size):\n",
    "            row_line = \"\"\n",
    "            col_line = str(i) + \" | \"\n",
    "            for j in range(0, self.board_size):\n",
    "                coord_for_row = (j, i - 1)\n",
    "                if i == 0:\n",
    "                    row_line = \"-\" * (self.board_size * 4 + 1)\n",
    "                else:\n",
    "                    row_symb_for_coord = self.row_symb(coord_for_row)\n",
    "                    row_line += \"-\" + row_symb_for_coord\n",
    "                \n",
    "                in_cell = self.in_cell_symb((j, i))\n",
    "                \n",
    "                coord_for_col = (j, i)\n",
    "                col_symb_for_coord = self.col_symb(in_cell, coord_for_col)\n",
    "                col_line += col_symb_for_coord\n",
    "                \n",
    "            print(row_line)\n",
    "            print(col_line)\n",
    "            \n",
    "        print(\"-\" * (self.board_size * 4 + 1))\n",
    "\n",
    "def left(coord):\n",
    "    return (coord[0] - 1, coord[1])\n",
    "\n",
    "def right(coord):\n",
    "    return (coord[0] + 1, coord[1])\n",
    "\n",
    "def up(coord):\n",
    "    return (coord[0], coord[1] - 1)\n",
    "\n",
    "def down(coord):\n",
    "    return (coord[0], coord[1] + 1)\n",
    "\n",
    "\n",
    "ui_board = UIBoard(board_size = 5)\n",
    "ui_board.print()\n"
   ]
  },
  {
   "cell_type": "code",
   "execution_count": 137,
   "id": "8cf3dec2",
   "metadata": {},
   "outputs": [
    {
     "name": "stdout",
     "output_type": "stream",
     "text": [
      "-----------------\n",
      "|   |   ‖ X |   | \n",
      "-===-===--------\n",
      "|   |   ‖   |   | \n",
      "----------------\n",
      "|   |   |   |   | \n",
      "----------------\n",
      "|   |   |   |   | \n",
      "-----------------\n"
     ]
    }
   ],
   "source": [
    "fences_horizontal = {(0, 0), (3, 3)}\n",
    "fences_vertical = {(1, 0)}\n",
    "board_size = \n",
    "    \n",
    "def col_symb(in_cell, coord):\n",
    "    same = (coord in fences_vertical)\n",
    "    to_up = (up(coord) in fences_vertical)\n",
    "    col_symb = \" \\u2016 \" if (same or to_up) else \" | \"\n",
    "    ret_val = in_cell + col_symb\n",
    "    return ret_val\n",
    "\n",
    "def row_symb(coord):\n",
    "    same = (coord in fences_horizontal)\n",
    "    to_right = (left(coord) in fences_horizontal)\n",
    "    row_symb = \"===\" if (same or to_right) else \"---\"\n",
    "    return row_symb\n",
    "\n",
    "def in_cell_symb(coord):\n",
    "    in_cell = player_position.get(coord)\n",
    "    if in_cell is None:\n",
    "        return \" \"\n",
    "    else:\n",
    "        return in_cell\n",
    "\n",
    "for i in range(0, board_size):\n",
    "    row_line = \"\"\n",
    "    col_line = \"| \"\n",
    "    for j in range(0, board_size):\n",
    "        coord_for_row = (j, i - 1)\n",
    "        if i == 0:\n",
    "            row_line = \"-\" * (board_size * 4 + 1)\n",
    "        else:\n",
    "            row_symb_for_coord = row_symb(coord_for_row)\n",
    "            row_line += \"-\" + row_symb_for_coord\n",
    "        \n",
    "        in_cell = in_cell_symb((j, i))\n",
    "        \n",
    "        coord_for_col = (j, i)\n",
    "        col_symb_for_coord = col_symb(in_cell, coord_for_col)\n",
    "        col_line += col_symb_for_coord\n",
    "        \n",
    "    print(row_line)\n",
    "    print(col_line)\n",
    "    \n",
    "print(\"-\" * (board_size * 4 + 1))"
   ]
  },
  {
   "cell_type": "code",
   "execution_count": 111,
   "id": "015401e1",
   "metadata": {},
   "outputs": [
    {
     "name": "stdout",
     "output_type": "stream",
     "text": [
      "‖\n"
     ]
    }
   ],
   "source": [
    "print()"
   ]
  },
  {
   "cell_type": "code",
   "execution_count": 20,
   "id": "6bd6aeb6",
   "metadata": {},
   "outputs": [],
   "source": []
  },
  {
   "cell_type": "code",
   "execution_count": null,
   "id": "295ec077",
   "metadata": {},
   "outputs": [],
   "source": []
  }
 ],
 "metadata": {
  "kernelspec": {
   "display_name": "Python 3 (ipykernel)",
   "language": "python",
   "name": "python3"
  },
  "language_info": {
   "codemirror_mode": {
    "name": "ipython",
    "version": 3
   },
   "file_extension": ".py",
   "mimetype": "text/x-python",
   "name": "python",
   "nbconvert_exporter": "python",
   "pygments_lexer": "ipython3",
   "version": "3.9.13"
  }
 },
 "nbformat": 4,
 "nbformat_minor": 5
}
