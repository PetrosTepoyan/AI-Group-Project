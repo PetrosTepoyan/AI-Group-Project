{
 "cells": [
  {
   "cell_type": "code",
   "execution_count": 58,
   "id": "59e2bdba",
   "metadata": {},
   "outputs": [
    {
     "name": "stdout",
     "output_type": "stream",
     "text": [
      "The autoreload extension is already loaded. To reload it, use:\n",
      "  %reload_ext autoreload\n"
     ]
    }
   ],
   "source": [
    "%load_ext autoreload\n",
    "%autoreload 2\n",
    "from GameFlow import Board, BoardTerminalTest, FenceChecker, MoveChecker\n",
    "from Search import MinimaxSearch, AlphaBetaSearch, DLMinimaxSearch, DLAlphaBetaSearch\n",
    "from Heuristics import DistanceHeuristic\n",
    "import sys\n",
    "sys.setrecursionlimit(10000)\n",
    "from copy import deepcopy\n",
    "from math import inf\n",
    "\n",
    "grid_size = 5\n",
    "fence_length = 2\n",
    "\n",
    "fence_checker = FenceChecker(\n",
    "    grid_size = grid_size,\n",
    "    fence_length = fence_length\n",
    ")\n",
    "move_checker = MoveChecker(grid_size)"
   ]
  },
  {
   "cell_type": "code",
   "execution_count": 59,
   "id": "3d9b8929",
   "metadata": {},
   "outputs": [],
   "source": [
    "board = Board(\n",
    "    grid_size = grid_size,\n",
    "    fence_checker = fence_checker,\n",
    "    player_positions = None,\n",
    "    move_checker = move_checker,\n",
    "    fences_horizontal=set(),\n",
    "    fences_vertical=set()\n",
    ")\n",
    "terminal_test = BoardTerminalTest()\n",
    "heuristic = DistanceHeuristic()"
   ]
  },
  {
   "cell_type": "code",
   "execution_count": null,
   "id": "36361464",
   "metadata": {},
   "outputs": [
    {
     "name": "stdout",
     "output_type": "stream",
     "text": [
      "3\n",
      "4\n",
      "5\n",
      "6\n",
      "7\n"
     ]
    }
   ],
   "source": [
    "state_gen_count = []\n",
    "depths = range(3, 9)\n",
    "for depth in depths:\n",
    "\n",
    "    search = DLMinimaxSearch(\n",
    "        depth = depth,\n",
    "        heuristic = heuristic\n",
    "    )\n",
    "\n",
    "    strategy = search.find_strategy(board, terminal_test)\n",
    "    state_gen_count.append(len(strategy))\n",
    "    print(depth)"
   ]
  },
  {
   "cell_type": "code",
   "execution_count": null,
   "id": "7c82eff3",
   "metadata": {},
   "outputs": [],
   "source": [
    "import matplotlib.pyplot as plt\n",
    "\n",
    "plt.style.use('ggplot')\n",
    "plt.bar(depths, state_gen_count, color = 'skyblue')\n",
    "\n",
    "# Adding title and labels (optional)\n",
    "\n",
    "plt.title(\"DL Minimax № states in strategy | 5x5\")\n",
    "plt.xticks(depths)\n",
    "plt.xlabel(\"Depth\")\n",
    "plt.ylabel(\"States\")\n",
    "plt.tight_layout()\n",
    "plt.savefig(\"5x5_gen_states_minimax.png\", dpi = 800)\n",
    "\n",
    "plt.show()"
   ]
  },
  {
   "cell_type": "code",
   "execution_count": null,
   "id": "b48cdfb8",
   "metadata": {},
   "outputs": [],
   "source": []
  }
 ],
 "metadata": {
  "kernelspec": {
   "display_name": "Python 3 (ipykernel)",
   "language": "python",
   "name": "python3"
  },
  "language_info": {
   "codemirror_mode": {
    "name": "ipython",
    "version": 3
   },
   "file_extension": ".py",
   "mimetype": "text/x-python",
   "name": "python",
   "nbconvert_exporter": "python",
   "pygments_lexer": "ipython3",
   "version": "3.9.13"
  }
 },
 "nbformat": 4,
 "nbformat_minor": 5
}
