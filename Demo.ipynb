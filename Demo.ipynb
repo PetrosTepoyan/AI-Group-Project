{
 "cells": [
  {
   "cell_type": "code",
   "execution_count": 5,
   "id": "680de669",
   "metadata": {},
   "outputs": [
    {
     "name": "stdout",
     "output_type": "stream",
     "text": [
      "The autoreload extension is already loaded. To reload it, use:\n",
      "  %reload_ext autoreload\n"
     ]
    }
   ],
   "source": [
    "%load_ext autoreload\n",
    "%autoreload 2\n",
    "\n",
    "import sys\n",
    "sys.setrecursionlimit(10000)\n",
    "from IPython.display import clear_output\n",
    "\n",
    "from GameFlow import Board, BoardTerminalTest, FenceChecker, MoveChecker\n",
    "from Search import MinimaxSearch, AlphaBetaSearch, DLMinimaxSearch, DLAlphaBetaSearch\n",
    "from Heuristics import DistanceHeuristic\n",
    "from UIKit import UIBoard\n",
    "\n",
    "grid_size = 5\n",
    "fence_length = 2\n",
    "\n",
    "fence_checker = FenceChecker(\n",
    "    grid_size = grid_size,\n",
    "    fence_length = fence_length\n",
    ")\n",
    "move_checker = MoveChecker(grid_size)\n",
    "\n",
    "board = Board(\n",
    "    grid_size = grid_size,\n",
    "    fence_checker = fence_checker,\n",
    "    player_positions = None,\n",
    "    move_checker = move_checker,\n",
    "    fences_horizontal=set(),\n",
    "    fences_vertical=set()\n",
    ")\n",
    "terminal_test = BoardTerminalTest()\n",
    "heuristic = DistanceHeuristic()\n",
    "depth = 10"
   ]
  },
  {
   "cell_type": "code",
   "execution_count": null,
   "id": "2f96cb3c",
   "metadata": {
    "scrolled": false
   },
   "outputs": [
    {
     "name": "stdout",
     "output_type": "stream",
     "text": [
      "---------------------\n",
      "|   ‖   |   |   |   | \n",
      "-----===-===--------\n",
      "|   ‖ X |   |   |   | \n",
      "---------===-===----\n",
      "|   |   |   |   |   | \n",
      "--------------------\n",
      "|   |   |   |   | O | \n",
      "-----===-===--------\n",
      "|   |   |   |   |   | \n",
      "---------------------\n",
      "Suggested move: 1 | Move | (4, 3) (4, 4)\n",
      "\n",
      "1.   Move | (4, 3) (4, 4)\n",
      "2.   Move | (4, 3) (3, 3)\n",
      "3.   Move | (4, 3) (4, 2)\n",
      "q - to quit\n",
      "s - search again\n"
     ]
    }
   ],
   "source": [
    "tmp_board = board\n",
    "search_required = False\n",
    "\n",
    "search = DLAlphaBetaSearch(\n",
    "    depth = depth,\n",
    "    heuristic = heuristic\n",
    ")\n",
    "\n",
    "strategy = search.find_strategy(tmp_board, terminal_test)\n",
    "while True:\n",
    "    clear_output(wait=False)\n",
    "    \n",
    "    ui_board = UIBoard(\n",
    "        board_size = tmp_board.grid_size,\n",
    "        fences_horizontal = tmp_board.fences_horizontal,\n",
    "        fences_vertical = tmp_board.fences_vertical,\n",
    "        player_positions = tmp_board.player_positions\n",
    "    )\n",
    "    ui_board.print()\n",
    "    \n",
    "    actions = tmp_board.get_applicable_actions()\n",
    "    actions_desc = [f\"{i + 1}. {'' if i + 1 >= 10 else ' '} {action}\" for i, action in enumerate(actions)]\n",
    "    actions_desc.append(\"q - to quit\")\n",
    "    actions_desc.append(\"s - search again\")\n",
    "    \n",
    "    if strategy.get(tmp_board):\n",
    "        search_required = False\n",
    "        best_move = strategy[tmp_board]\n",
    "        best_move_index = actions.index(best_move)\n",
    "        print(\"Suggested move:\", best_move_index + 1, \"|\", best_move)\n",
    "        print()\n",
    "    else:\n",
    "        print(\"No suggestions! Try to search again.\")\n",
    "    \n",
    "    for action in actions_desc:\n",
    "        print(action)\n",
    "    \n",
    "    move_num = input(\"What move? \")\n",
    "    \n",
    "    if move_num == 'q':\n",
    "        break\n",
    "        \n",
    "    if move_num == 's':\n",
    "        search = DLAlphaBetaSearch(\n",
    "            depth = depth,\n",
    "            heuristic = heuristic\n",
    "        )\n",
    "\n",
    "        print(\"Searching...\")\n",
    "        strategy = search.find_strategy(tmp_board, terminal_test)\n",
    "        continue\n",
    "        \n",
    "    move_num = int(move_num)\n",
    "    action = actions[move_num - 1]\n",
    "    tmp_board = tmp_board.get_action_result(action)"
   ]
  },
  {
   "cell_type": "code",
   "execution_count": null,
   "id": "a1269e52",
   "metadata": {},
   "outputs": [],
   "source": []
  }
 ],
 "metadata": {
  "kernelspec": {
   "display_name": "Python 3 (ipykernel)",
   "language": "python",
   "name": "python3"
  },
  "language_info": {
   "codemirror_mode": {
    "name": "ipython",
    "version": 3
   },
   "file_extension": ".py",
   "mimetype": "text/x-python",
   "name": "python",
   "nbconvert_exporter": "python",
   "pygments_lexer": "ipython3",
   "version": "3.9.13"
  }
 },
 "nbformat": 4,
 "nbformat_minor": 5
}
