{
 "cells": [
  {
   "cell_type": "code",
   "execution_count": 41,
   "id": "e7f6e745",
   "metadata": {},
   "outputs": [
    {
     "name": "stdout",
     "output_type": "stream",
     "text": [
      "The autoreload extension is already loaded. To reload it, use:\n",
      "  %reload_ext autoreload\n"
     ]
    }
   ],
   "source": [
    "%load_ext autoreload\n",
    "%autoreload 2\n",
    "\n",
    "import sys\n",
    "sys.setrecursionlimit(10000)\n",
    "from IPython.display import clear_output\n",
    "\n",
    "from GameFlow import Board, BoardTerminalTest, FenceChecker, MoveChecker\n",
    "from Search import MinimaxSearch, AlphaBetaSearch, DLMinimaxSearch, DLAlphaBetaSearch\n",
    "from Heuristics import DistanceHeuristic\n",
    "\n",
    "grid_size = 5\n",
    "fence_length = 2\n",
    "\n",
    "fence_checker = FenceChecker(\n",
    "    grid_size = grid_size,\n",
    "    fence_length = fence_length\n",
    ")\n",
    "move_checker = MoveChecker(grid_size)\n",
    "\n",
    "board = Board(\n",
    "    grid_size = grid_size,\n",
    "    fence_checker = fence_checker,\n",
    "    player_positions = None,\n",
    "    move_checker = move_checker,\n",
    "    fences_horizontal=set(),\n",
    "    fences_vertical=set()\n",
    ")\n",
    "terminal_test = BoardTerminalTest()\n",
    "heuristic = DistanceHeuristic()\n",
    "depth = 5"
   ]
  },
  {
   "cell_type": "code",
   "execution_count": 42,
   "id": "b9030003",
   "metadata": {},
   "outputs": [],
   "source": [
    "search = DLAlphaBetaSearch(\n",
    "    depth = depth,\n",
    "    heuristic = heuristic\n",
    ")\n",
    "\n",
    "strategy = search.find_strategy(board, terminal_test)"
   ]
  },
  {
   "cell_type": "code",
   "execution_count": null,
   "id": "d19f065a",
   "metadata": {},
   "outputs": [
    {
     "name": "stdout",
     "output_type": "stream",
     "text": [
      "Suggested move: Move | (2, 0) (1, 0)\n",
      "\n",
      "1.   Move | (2, 0) (1, 0)\n",
      "2.   Move | (2, 0) (2, 1)\n",
      "3.   Move | (2, 0) (3, 0)\n",
      "4.   PlaceFence | H at (0, 0)\n",
      "5.   PlaceFence | V at (0, 0)\n",
      "6.   PlaceFence | H at (0, 1)\n",
      "7.   PlaceFence | V at (0, 1)\n",
      "8.   PlaceFence | H at (0, 2)\n",
      "9.   PlaceFence | V at (0, 2)\n",
      "10.  PlaceFence | H at (0, 3)\n",
      "11.  PlaceFence | V at (0, 3)\n",
      "12.  PlaceFence | H at (1, 0)\n",
      "13.  PlaceFence | V at (1, 0)\n",
      "14.  PlaceFence | H at (1, 1)\n",
      "15.  PlaceFence | V at (1, 1)\n",
      "16.  PlaceFence | H at (1, 2)\n",
      "17.  PlaceFence | V at (1, 2)\n",
      "18.  PlaceFence | H at (1, 3)\n",
      "19.  PlaceFence | V at (1, 3)\n",
      "20.  PlaceFence | H at (2, 0)\n",
      "21.  PlaceFence | V at (2, 0)\n",
      "22.  PlaceFence | H at (2, 1)\n",
      "23.  PlaceFence | V at (2, 1)\n",
      "24.  PlaceFence | H at (2, 2)\n",
      "25.  PlaceFence | V at (2, 2)\n",
      "26.  PlaceFence | H at (2, 3)\n",
      "27.  PlaceFence | V at (2, 3)\n",
      "28.  PlaceFence | H at (3, 0)\n",
      "29.  PlaceFence | V at (3, 0)\n",
      "30.  PlaceFence | H at (3, 1)\n",
      "31.  PlaceFence | V at (3, 1)\n",
      "32.  PlaceFence | H at (3, 2)\n",
      "33.  PlaceFence | V at (3, 2)\n",
      "34.  PlaceFence | H at (3, 3)\n",
      "35.  PlaceFence | V at (3, 3)\n",
      "q - to quit\n",
      "s - search again\n"
     ]
    }
   ],
   "source": [
    "tmp_board = board\n",
    "search_required = False\n",
    "while True:\n",
    "    clear_output(wait=False)\n",
    "    if strategy[tmp_board]:\n",
    "        search_required = False\n",
    "        best_move = strategy[tmp_board]\n",
    "        print(\"Suggested move:\", best_move)\n",
    "        print()\n",
    "        \n",
    "    actions = tmp_board.get_applicable_actions()\n",
    "    actions_desc = [f\"{i + 1}. {'' if i + 1 >= 10 else ' '} {action}\" for i, action in enumerate(actions)]\n",
    "    actions_desc.append(\"q - to quit\")\n",
    "    actions_desc.append(\"s - search again\")\n",
    "    \n",
    "    for action in actions_desc:\n",
    "        print(action)\n",
    "        \n",
    "    \n",
    "    move_num = input(\"What move? \")\n",
    "    \n",
    "    if move_num == 'q':\n",
    "        break\n",
    "        \n",
    "    if move_num == 's':\n",
    "        search_required = True\n",
    "        continue\n",
    "        \n",
    "    move_num = int(move_num)\n",
    "    action = actions[move_num - 1]\n",
    "    tmp_board = tmp_board.get_action_result(action)"
   ]
  },
  {
   "cell_type": "code",
   "execution_count": null,
   "id": "6276d262",
   "metadata": {},
   "outputs": [],
   "source": []
  }
 ],
 "metadata": {
  "kernelspec": {
   "display_name": "Python 3 (ipykernel)",
   "language": "python",
   "name": "python3"
  },
  "language_info": {
   "codemirror_mode": {
    "name": "ipython",
    "version": 3
   },
   "file_extension": ".py",
   "mimetype": "text/x-python",
   "name": "python",
   "nbconvert_exporter": "python",
   "pygments_lexer": "ipython3",
   "version": "3.9.13"
  }
 },
 "nbformat": 4,
 "nbformat_minor": 5
}
