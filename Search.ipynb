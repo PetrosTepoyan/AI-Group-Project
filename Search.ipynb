{
 "cells": [
  {
   "cell_type": "code",
   "execution_count": 15,
   "id": "c51930e0",
   "metadata": {},
   "outputs": [
    {
     "name": "stdout",
     "output_type": "stream",
     "text": [
      "The autoreload extension is already loaded. To reload it, use:\n",
      "  %reload_ext autoreload\n"
     ]
    }
   ],
   "source": [
    "%load_ext autoreload\n",
    "%autoreload 2\n",
    "from GameFlow import Board, BoardTerminalTest, FenceChecker, MoveChecker\n",
    "from search import MinimaxSearch\n",
    "import sys\n",
    "sys.setrecursionlimit(1000)\n",
    "\n",
    "grid_size = 5\n",
    "fence_length = 2\n",
    "\n",
    "fence_checker = FenceChecker(\n",
    "    grid_size = grid_size,\n",
    "    fence_length = fence_length\n",
    ")\n",
    "move_checker = MoveChecker(grid_size)"
   ]
  },
  {
   "cell_type": "code",
   "execution_count": 16,
   "id": "329db6b8",
   "metadata": {},
   "outputs": [
    {
     "name": "stdout",
     "output_type": "stream",
     "text": [
      "set()\n"
     ]
    },
    {
     "ename": "KeyError",
     "evalue": "None",
     "output_type": "error",
     "traceback": [
      "\u001b[0;31m---------------------------------------------------------------------------\u001b[0m",
      "\u001b[0;31mKeyError\u001b[0m                                  Traceback (most recent call last)",
      "Input \u001b[0;32mIn [16]\u001b[0m, in \u001b[0;36m<cell line: 13>\u001b[0;34m()\u001b[0m\n\u001b[1;32m     10\u001b[0m terminal_test \u001b[38;5;241m=\u001b[39m BoardTerminalTest()\n\u001b[1;32m     11\u001b[0m search \u001b[38;5;241m=\u001b[39m MinimaxSearch()\n\u001b[0;32m---> 13\u001b[0m \u001b[43msearch\u001b[49m\u001b[38;5;241;43m.\u001b[39;49m\u001b[43mfind_strategy\u001b[49m\u001b[43m(\u001b[49m\u001b[43mboard\u001b[49m\u001b[43m,\u001b[49m\u001b[43m \u001b[49m\u001b[43mterminal_test\u001b[49m\u001b[43m)\u001b[49m\n",
      "File \u001b[0;32m~/Desktop/Education/AI2/AI-Group-Project/Code/search.py:12\u001b[0m, in \u001b[0;36mMinimaxSearch.find_strategy\u001b[0;34m(self, initial_state, terminal_test)\u001b[0m\n\u001b[1;32m     10\u001b[0m strategy \u001b[38;5;241m=\u001b[39m {}\n\u001b[1;32m     11\u001b[0m \u001b[38;5;28mself\u001b[39m\u001b[38;5;241m.\u001b[39m_number_of_generated_states \u001b[38;5;241m=\u001b[39m \u001b[38;5;241m0\u001b[39m\n\u001b[0;32m---> 12\u001b[0m \u001b[38;5;28;43mself\u001b[39;49m\u001b[38;5;241;43m.\u001b[39;49m\u001b[43mmax_value\u001b[49m\u001b[43m(\u001b[49m\u001b[43minitial_state\u001b[49m\u001b[43m,\u001b[49m\u001b[43m \u001b[49m\u001b[43mterminal_test\u001b[49m\u001b[43m,\u001b[49m\u001b[43m \u001b[49m\u001b[43mstrategy\u001b[49m\u001b[43m)\u001b[49m\n\u001b[1;32m     14\u001b[0m \u001b[38;5;28;01mreturn\u001b[39;00m strategy\n",
      "File \u001b[0;32m~/Desktop/Education/AI2/AI-Group-Project/Code/search.py:32\u001b[0m, in \u001b[0;36mMinimaxSearch.max_value\u001b[0;34m(self, state, terminal_test, strategy)\u001b[0m\n\u001b[1;32m     30\u001b[0m move \u001b[38;5;241m=\u001b[39m \u001b[38;5;28;01mNone\u001b[39;00m\n\u001b[1;32m     31\u001b[0m \u001b[38;5;66;03m# Loop through available actions\u001b[39;00m\n\u001b[0;32m---> 32\u001b[0m actions \u001b[38;5;241m=\u001b[39m \u001b[43mstate\u001b[49m\u001b[38;5;241;43m.\u001b[39;49m\u001b[43mget_applicable_actions\u001b[49m\u001b[43m(\u001b[49m\u001b[43m)\u001b[49m\n\u001b[1;32m     33\u001b[0m \u001b[38;5;66;03m# print(len(actions), len(state.fences_horizontal), len(state.fences_vertical))\u001b[39;00m\n\u001b[1;32m     34\u001b[0m \u001b[38;5;66;03m# print(len(actions), state.player_positions[Player.MAX], state.player_positions[Player.MIN])\u001b[39;00m\n\u001b[1;32m     35\u001b[0m \u001b[38;5;28;01mfor\u001b[39;00m action \u001b[38;5;129;01min\u001b[39;00m actions:\n\u001b[1;32m     36\u001b[0m     \u001b[38;5;66;03m# Generate new state and increment the number of generated states\u001b[39;00m\n",
      "File \u001b[0;32m~/Desktop/Education/AI2/AI-Group-Project/Code/GameFlow/Board.py:46\u001b[0m, in \u001b[0;36mBoard.get_applicable_actions\u001b[0;34m(self)\u001b[0m\n\u001b[1;32m     44\u001b[0m actions \u001b[38;5;241m=\u001b[39m []\n\u001b[1;32m     45\u001b[0m \u001b[38;5;66;03m# Calculate possible moves for the pawn\u001b[39;00m\n\u001b[0;32m---> 46\u001b[0m current_pos \u001b[38;5;241m=\u001b[39m \u001b[38;5;28;43mself\u001b[39;49m\u001b[38;5;241;43m.\u001b[39;49m\u001b[43mplayer_positions\u001b[49m\u001b[43m[\u001b[49m\u001b[38;5;28;43mself\u001b[39;49m\u001b[38;5;241;43m.\u001b[39;49m\u001b[43mcurrent_player\u001b[49m\u001b[43m]\u001b[49m\n\u001b[1;32m     47\u001b[0m movable_coords \u001b[38;5;241m=\u001b[39m \u001b[38;5;28mself\u001b[39m\u001b[38;5;241m.\u001b[39mget_movable_coords()\n\u001b[1;32m     48\u001b[0m \u001b[38;5;28;01mfor\u001b[39;00m coord \u001b[38;5;129;01min\u001b[39;00m movable_coords:\n",
      "\u001b[0;31mKeyError\u001b[0m: None"
     ]
    }
   ],
   "source": [
    "board = Board(\n",
    "    grid_size = grid_size,\n",
    "    fence_checker = fence_checker,\n",
    "    player_positions = None,\n",
    "    current_player = None,\n",
    "    move_checker = move_checker,\n",
    "    fences_horizontal=set(),\n",
    "    fences_vertical=set()\n",
    ")\n",
    "terminal_test = BoardTerminalTest()\n",
    "search = MinimaxSearch()\n",
    "\n",
    "search.find_strategy(board, terminal_test)"
   ]
  },
  {
   "cell_type": "code",
   "execution_count": null,
   "id": "9e2c9f9b",
   "metadata": {},
   "outputs": [],
   "source": []
  }
 ],
 "metadata": {
  "kernelspec": {
   "display_name": "Python 3 (ipykernel)",
   "language": "python",
   "name": "python3"
  },
  "language_info": {
   "codemirror_mode": {
    "name": "ipython",
    "version": 3
   },
   "file_extension": ".py",
   "mimetype": "text/x-python",
   "name": "python",
   "nbconvert_exporter": "python",
   "pygments_lexer": "ipython3",
   "version": "3.9.13"
  }
 },
 "nbformat": 4,
 "nbformat_minor": 5
}
