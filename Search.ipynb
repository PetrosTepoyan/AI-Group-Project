{
 "cells": [
  {
   "cell_type": "code",
   "execution_count": 1,
   "id": "c51930e0",
   "metadata": {},
   "outputs": [],
   "source": [
    "%load_ext autoreload\n",
    "%autoreload 2\n",
    "from GameFlow import Board, BoardTerminalTest, FenceChecker, MoveChecker\n",
    "from Search import MinimaxSearch, AlphaBetaSearch\n",
    "import sys\n",
    "sys.setrecursionlimit(10000)\n",
    "from copy import deepcopy\n",
    "from math import inf\n",
    "\n",
    "grid_size = 4\n",
    "fence_length = 2\n",
    "\n",
    "fence_checker = FenceChecker(\n",
    "    grid_size = grid_size,\n",
    "    fence_length = fence_length\n",
    ")\n",
    "move_checker = MoveChecker(grid_size)"
   ]
  },
  {
   "cell_type": "code",
   "execution_count": 2,
   "id": "daecdd60",
   "metadata": {},
   "outputs": [],
   "source": [
    "board = Board(\n",
    "    grid_size = grid_size,\n",
    "    fence_checker = fence_checker,\n",
    "    player_positions = None,\n",
    "    move_checker = move_checker,\n",
    "    fences_horizontal=set(),\n",
    "    fences_vertical=set()\n",
    ")\n",
    "terminal_test = BoardTerminalTest()\n",
    "search = AlphaBetaSearch()\n",
    "\n",
    "strategy = search.find_strategy(board, terminal_test)"
   ]
  },
  {
   "cell_type": "code",
   "execution_count": 36,
   "id": "7f2ca4cc",
   "metadata": {},
   "outputs": [],
   "source": [
    "tmp_board = deepcopy(board)\n",
    "move_seq = []\n",
    "final_board = None\n",
    "while True:\n",
    "    move = strategy[tmp_board]\n",
    "    if move is None:\n",
    "        final_board = tmp_board\n",
    "        break\n",
    "        \n",
    "    move_seq.append((tmp_board.current_player.name, move))\n",
    "    tmp_board = tmp_board.get_action_result(move)\n",
    "    \n",
    "    "
   ]
  },
  {
   "cell_type": "code",
   "execution_count": 37,
   "id": "c7c9c0d4",
   "metadata": {},
   "outputs": [
    {
     "name": "stdout",
     "output_type": "stream",
     "text": [
      "1200923\n"
     ]
    },
    {
     "data": {
      "text/plain": [
       "Board Player.MIN | MAX:(1, 3) - MIN:(3, 3) | 0 | 0"
      ]
     },
     "execution_count": 37,
     "metadata": {},
     "output_type": "execute_result"
    }
   ],
   "source": [
    "print(len(strategy.keys()))\n",
    "final_board"
   ]
  },
  {
   "cell_type": "code",
   "execution_count": 38,
   "id": "2703c6c8",
   "metadata": {},
   "outputs": [
    {
     "data": {
      "text/plain": [
       "[('MAX', Move | (2, 0) (1, 0)),\n",
       " ('MIN', Move | (2, 3) (1, 3)),\n",
       " ('MAX', Move | (1, 0) (1, 1)),\n",
       " ('MIN', Move | (1, 3) (2, 3)),\n",
       " ('MAX', Move | (1, 1) (0, 1)),\n",
       " ('MIN', Move | (2, 3) (1, 3)),\n",
       " ('MAX', Move | (0, 1) (0, 2)),\n",
       " ('MIN', Move | (1, 3) (2, 3)),\n",
       " ('MAX', Move | (0, 2) (1, 2)),\n",
       " ('MIN', Move | (2, 3) (3, 3)),\n",
       " ('MAX', Move | (1, 2) (1, 3))]"
      ]
     },
     "execution_count": 38,
     "metadata": {},
     "output_type": "execute_result"
    }
   ],
   "source": [
    "move_seq"
   ]
  },
  {
   "cell_type": "code",
   "execution_count": 14,
   "id": "a834f1e6",
   "metadata": {},
   "outputs": [
    {
     "name": "stdout",
     "output_type": "stream",
     "text": [
      "{(True, (0, 0))}\n",
      "{(True, (0, 0))}\n",
      "{(True, (0, 0))}\n",
      "{(True, (0, 0))}\n",
      "{(True, (0, 0))}\n",
      "{(True, (0, 0))}\n",
      "{(True, (0, 0))}\n",
      "{(True, (0, 0))}\n"
     ]
    },
    {
     "data": {
      "text/plain": [
       "[Move | (2, 0) (2, 1),\n",
       " Move | (2, 0) (0, 0),\n",
       " PlaceFence | H at (0, 0),\n",
       " PlaceFence | V at (0, 0),\n",
       " PlaceFence | H at (0, 1),\n",
       " PlaceFence | V at (0, 1),\n",
       " PlaceFence | H at (1, 0),\n",
       " PlaceFence | V at (1, 0),\n",
       " PlaceFence | H at (1, 1),\n",
       " PlaceFence | V at (1, 1)]"
      ]
     },
     "execution_count": 14,
     "metadata": {},
     "output_type": "execute_result"
    }
   ],
   "source": [
    "final_board.get_applicable_actions()"
   ]
  },
  {
   "cell_type": "code",
   "execution_count": 58,
   "id": "7408f10f",
   "metadata": {},
   "outputs": [
    {
     "data": {
      "text/plain": [
       "<Player.MAX: 1>"
      ]
     },
     "execution_count": 58,
     "metadata": {},
     "output_type": "execute_result"
    }
   ],
   "source": [
    "final_board.current_player"
   ]
  },
  {
   "cell_type": "code",
   "execution_count": 57,
   "id": "f979029f",
   "metadata": {},
   "outputs": [
    {
     "data": {
      "text/plain": [
       "{<Player.MAX: 1>: (2, 0), <Player.MIN: 2>: (1, 0)}"
      ]
     },
     "execution_count": 57,
     "metadata": {},
     "output_type": "execute_result"
    }
   ],
   "source": [
    "final_board.player_positions"
   ]
  },
  {
   "cell_type": "code",
   "execution_count": 28,
   "id": "67faff13",
   "metadata": {},
   "outputs": [
    {
     "data": {
      "text/plain": [
       "Move | (1, 0) (1, 1)"
      ]
     },
     "execution_count": 28,
     "metadata": {},
     "output_type": "execute_result"
    }
   ],
   "source": [
    "action = board.get_applicable_actions()[0]\n",
    "action"
   ]
  },
  {
   "cell_type": "code",
   "execution_count": 30,
   "id": "8fc261dc",
   "metadata": {},
   "outputs": [
    {
     "data": {
      "text/plain": [
       "[Move | (1, 2) (1, 0),\n",
       " Move | (1, 2) (0, 2),\n",
       " Move | (1, 2) (2, 2),\n",
       " PlaceFence | H at (0, 0),\n",
       " PlaceFence | V at (0, 0),\n",
       " PlaceFence | H at (0, 1),\n",
       " PlaceFence | V at (0, 1),\n",
       " PlaceFence | H at (1, 0),\n",
       " PlaceFence | V at (1, 0),\n",
       " PlaceFence | H at (1, 1),\n",
       " PlaceFence | V at (1, 1)]"
      ]
     },
     "execution_count": 30,
     "metadata": {},
     "output_type": "execute_result"
    }
   ],
   "source": [
    "board.get_action_result(action).get_applicable_actions()"
   ]
  },
  {
   "cell_type": "code",
   "execution_count": 35,
   "id": "d8bddc75",
   "metadata": {},
   "outputs": [
    {
     "name": "stdout",
     "output_type": "stream",
     "text": [
      "- - - - - - - - - \n",
      "| X | | X | | X | \n",
      "| X | | X | | X | \n",
      "- - - - - - - - - \n",
      "| X | | X | | X | \n",
      "| X | | X | | X | \n",
      "- - - - - - - - - \n",
      "| X | | X | | X | \n",
      "| X | | X | | X | \n"
     ]
    }
   ],
   "source": [
    "tile_size = 3\n",
    "board_size = 3\n",
    "for i in range(board_size * tile_size):\n",
    "    for j in range(board_size * tile_size):\n",
    "        # Determine if the current position is at the border of a tile\n",
    "        is_horizontal_border = i % tile_size == 0\n",
    "        is_vertical_border = j % tile_size == 0 or j % tile_size == tile_size - 1\n",
    "        \n",
    "        if is_horizontal_border:\n",
    "            print(\"-\", end=\" \")\n",
    "        elif is_vertical_border:\n",
    "            print(\"|\", end=\" \")\n",
    "        else:\n",
    "            print(\"X\", end=\" \")\n",
    "    print()  # New line after each row"
   ]
  },
  {
   "cell_type": "code",
   "execution_count": null,
   "id": "b8dbe2fc",
   "metadata": {},
   "outputs": [],
   "source": [
    "-------------\n",
    "| X | X | X |\n",
    "-------------\n",
    "| X | X | X |\n",
    "-------------\n",
    "| X | X | X |\n",
    "-------------"
   ]
  },
  {
   "cell_type": "code",
   "execution_count": 41,
   "id": "cedec26a",
   "metadata": {},
   "outputs": [
    {
     "name": "stdout",
     "output_type": "stream",
     "text": [
      "- - - - - - - - - \n",
      "| X | | X | | X | \n",
      "- - - - - - - - - \n",
      "| X | | X | | X | \n",
      "- - - - - - - - - \n",
      "| X | | X | | X | \n",
      "- - - - - - - - - \n",
      "| X | | X | | X | \n",
      "- - - - - - - - - \n",
      "| X | | X | | X | \n"
     ]
    }
   ],
   "source": [
    "tile_size = 3\n",
    "board_size = 3\n",
    "\n",
    "for i in range(board_size * tile_size):\n",
    "    print(\"-\", end=\" \")\n",
    "print()\n",
    "\n",
    "for i in range(board_size * tile_size):\n",
    "    for j in range(board_size * tile_size):\n",
    "        # Determine if the current position is at the border of a tile\n",
    "        is_horizontal_border = i % 2 == 1\n",
    "        is_vertical_border = j % tile_size == 0 or j % tile_size == tile_size - 1\n",
    "        \n",
    "        if is_horizontal_border:\n",
    "            print(\"-\", end=\" \")\n",
    "        elif is_vertical_border:\n",
    "            print(\"|\", end=\" \")\n",
    "        else:\n",
    "            print(\"X\", end=\" \")\n",
    "    print()  # New line after each row"
   ]
  },
  {
   "cell_type": "code",
   "execution_count": 65,
   "id": "5aad5881",
   "metadata": {},
   "outputs": [
    {
     "name": "stdout",
     "output_type": "stream",
     "text": [
      "-------------\n",
      "| X | X | X |\n",
      "-------------\n",
      "| X | X | X |\n",
      "-------------\n",
      "| X | X | X |\n",
      "-------------\n"
     ]
    }
   ],
   "source": [
    "# Define the function to print the grid\n",
    "def print_grid(grid_size):\n",
    "    row = \"--\" * (grid_size * 2) + \"-\"\n",
    "    cell = \"| X \" * grid_size + \"|\"\n",
    "    for _ in range(grid_size):\n",
    "        print(row)\n",
    "        print(cell)\n",
    "    print(row)\n",
    "\n",
    "# Given grid size\n",
    "grid_size = 3\n",
    "\n",
    "# Call the function\n",
    "print_grid(grid_size)"
   ]
  },
  {
   "cell_type": "code",
   "execution_count": 64,
   "id": "ded96122",
   "metadata": {},
   "outputs": [
    {
     "name": "stdout",
     "output_type": "stream",
     "text": [
      "-------------\n",
      "| P |   |   |\n",
      "--==---------\n",
      "|   |   |   |\n",
      "-------------\n",
      "|   |   | Q |\n",
      "-------------\n"
     ]
    }
   ],
   "source": [
    "def print_grid(grid_size, player_positions, h_fences, v_fences):\n",
    "    # Create a function to check if a fence exists at a given position\n",
    "    def has_fence(pos, fences):\n",
    "        return pos in fences\n",
    "\n",
    "    for row in range(grid_size):\n",
    "        # Print the top border of each cell\n",
    "        for col in range(grid_size * 2):\n",
    "            print('==' if has_fence((row, col), h_fences) else '--', end='')\n",
    "        print('-')\n",
    "\n",
    "        # Print the side border and player positions\n",
    "        for col in range(grid_size):\n",
    "            if (row, col) in player_positions:\n",
    "                player = 'P' if player_positions.index((row, col)) == 0 else 'Q'\n",
    "                print(f'| {player}', end=' ')\n",
    "            else:\n",
    "                print('|  ', end=' ')\n",
    "        print('|')\n",
    "\n",
    "    # Print the bottom border of the grid\n",
    "    print('--' * (grid_size * 2) + '-')\n",
    "\n",
    "# Test the function with an example\n",
    "grid_size = 3\n",
    "player_positions = [(0, 0), (2, 2)]  # Player P at (0,0) and Player Q at (2,2)\n",
    "h_fences = [(1, 1)]  # Horizontal fence at (1,1)\n",
    "v_fences = [(1, 0)]  # Vertical fence at (1,0)\n",
    "\n",
    "print_grid(grid_size, player_positions, h_fences, v_fences)\n"
   ]
  },
  {
   "cell_type": "code",
   "execution_count": null,
   "id": "fbc7518b",
   "metadata": {},
   "outputs": [],
   "source": []
  }
 ],
 "metadata": {
  "kernelspec": {
   "display_name": "Python 3 (ipykernel)",
   "language": "python",
   "name": "python3"
  },
  "language_info": {
   "codemirror_mode": {
    "name": "ipython",
    "version": 3
   },
   "file_extension": ".py",
   "mimetype": "text/x-python",
   "name": "python",
   "nbconvert_exporter": "python",
   "pygments_lexer": "ipython3",
   "version": "3.9.13"
  }
 },
 "nbformat": 4,
 "nbformat_minor": 5
}
